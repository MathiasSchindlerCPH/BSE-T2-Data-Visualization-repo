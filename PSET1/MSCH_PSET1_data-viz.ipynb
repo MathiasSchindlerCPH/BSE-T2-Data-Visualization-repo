{
 "cells": [
  {
   "cell_type": "markdown",
   "metadata": {
    "slideshow": {
     "slide_type": "slide"
    }
   },
   "source": [
    "<center><h1>Homework Assignment #1</h1></center>\n",
    "<table width=\"100%\">\n",
    "    <tr>\n",
    "        <td><img src=\"../images/img0.jpg\" /></td>\n",
    "    </tr>\n",
    "</table>"
   ]
  },
  {
   "cell_type": "markdown",
   "metadata": {},
   "source": [
    "- To explore the basic data manipulation verbs of `dplyr`, we’ll use `nycflights13::flights`. \n",
    "- This data frame contains all 336,776 flights that departed from New York City in 2013."
   ]
  },
  {
   "cell_type": "code",
   "execution_count": 22,
   "metadata": {
    "slideshow": {
     "slide_type": "-"
    }
   },
   "outputs": [
    {
     "data": {
      "text/html": [
       "<table class=\"dataframe\">\n",
       "<caption>A tibble: 6 × 19</caption>\n",
       "<thead>\n",
       "\t<tr><th scope=col>year</th><th scope=col>month</th><th scope=col>day</th><th scope=col>dep_time</th><th scope=col>sched_dep_time</th><th scope=col>dep_delay</th><th scope=col>arr_time</th><th scope=col>sched_arr_time</th><th scope=col>arr_delay</th><th scope=col>carrier</th><th scope=col>flight</th><th scope=col>tailnum</th><th scope=col>origin</th><th scope=col>dest</th><th scope=col>air_time</th><th scope=col>distance</th><th scope=col>hour</th><th scope=col>minute</th><th scope=col>time_hour</th></tr>\n",
       "\t<tr><th scope=col>&lt;int&gt;</th><th scope=col>&lt;int&gt;</th><th scope=col>&lt;int&gt;</th><th scope=col>&lt;int&gt;</th><th scope=col>&lt;int&gt;</th><th scope=col>&lt;dbl&gt;</th><th scope=col>&lt;int&gt;</th><th scope=col>&lt;int&gt;</th><th scope=col>&lt;dbl&gt;</th><th scope=col>&lt;chr&gt;</th><th scope=col>&lt;int&gt;</th><th scope=col>&lt;chr&gt;</th><th scope=col>&lt;chr&gt;</th><th scope=col>&lt;chr&gt;</th><th scope=col>&lt;dbl&gt;</th><th scope=col>&lt;dbl&gt;</th><th scope=col>&lt;dbl&gt;</th><th scope=col>&lt;dbl&gt;</th><th scope=col>&lt;dttm&gt;</th></tr>\n",
       "</thead>\n",
       "<tbody>\n",
       "\t<tr><td>2013</td><td>1</td><td>1</td><td>517</td><td>515</td><td> 2</td><td> 830</td><td> 819</td><td> 11</td><td>UA</td><td>1545</td><td>N14228</td><td>EWR</td><td>IAH</td><td>227</td><td>1400</td><td>5</td><td>15</td><td>2013-01-01 05:00:00</td></tr>\n",
       "\t<tr><td>2013</td><td>1</td><td>1</td><td>533</td><td>529</td><td> 4</td><td> 850</td><td> 830</td><td> 20</td><td>UA</td><td>1714</td><td>N24211</td><td>LGA</td><td>IAH</td><td>227</td><td>1416</td><td>5</td><td>29</td><td>2013-01-01 05:00:00</td></tr>\n",
       "\t<tr><td>2013</td><td>1</td><td>1</td><td>542</td><td>540</td><td> 2</td><td> 923</td><td> 850</td><td> 33</td><td>AA</td><td>1141</td><td>N619AA</td><td>JFK</td><td>MIA</td><td>160</td><td>1089</td><td>5</td><td>40</td><td>2013-01-01 05:00:00</td></tr>\n",
       "\t<tr><td>2013</td><td>1</td><td>1</td><td>544</td><td>545</td><td>-1</td><td>1004</td><td>1022</td><td>-18</td><td>B6</td><td> 725</td><td>N804JB</td><td>JFK</td><td>BQN</td><td>183</td><td>1576</td><td>5</td><td>45</td><td>2013-01-01 05:00:00</td></tr>\n",
       "\t<tr><td>2013</td><td>1</td><td>1</td><td>554</td><td>600</td><td>-6</td><td> 812</td><td> 837</td><td>-25</td><td>DL</td><td> 461</td><td>N668DN</td><td>LGA</td><td>ATL</td><td>116</td><td> 762</td><td>6</td><td> 0</td><td>2013-01-01 06:00:00</td></tr>\n",
       "\t<tr><td>2013</td><td>1</td><td>1</td><td>554</td><td>558</td><td>-4</td><td> 740</td><td> 728</td><td> 12</td><td>UA</td><td>1696</td><td>N39463</td><td>EWR</td><td>ORD</td><td>150</td><td> 719</td><td>5</td><td>58</td><td>2013-01-01 05:00:00</td></tr>\n",
       "</tbody>\n",
       "</table>\n"
      ],
      "text/latex": [
       "A tibble: 6 × 19\n",
       "\\begin{tabular}{lllllllllllllllllll}\n",
       " year & month & day & dep\\_time & sched\\_dep\\_time & dep\\_delay & arr\\_time & sched\\_arr\\_time & arr\\_delay & carrier & flight & tailnum & origin & dest & air\\_time & distance & hour & minute & time\\_hour\\\\\n",
       " <int> & <int> & <int> & <int> & <int> & <dbl> & <int> & <int> & <dbl> & <chr> & <int> & <chr> & <chr> & <chr> & <dbl> & <dbl> & <dbl> & <dbl> & <dttm>\\\\\n",
       "\\hline\n",
       "\t 2013 & 1 & 1 & 517 & 515 &  2 &  830 &  819 &  11 & UA & 1545 & N14228 & EWR & IAH & 227 & 1400 & 5 & 15 & 2013-01-01 05:00:00\\\\\n",
       "\t 2013 & 1 & 1 & 533 & 529 &  4 &  850 &  830 &  20 & UA & 1714 & N24211 & LGA & IAH & 227 & 1416 & 5 & 29 & 2013-01-01 05:00:00\\\\\n",
       "\t 2013 & 1 & 1 & 542 & 540 &  2 &  923 &  850 &  33 & AA & 1141 & N619AA & JFK & MIA & 160 & 1089 & 5 & 40 & 2013-01-01 05:00:00\\\\\n",
       "\t 2013 & 1 & 1 & 544 & 545 & -1 & 1004 & 1022 & -18 & B6 &  725 & N804JB & JFK & BQN & 183 & 1576 & 5 & 45 & 2013-01-01 05:00:00\\\\\n",
       "\t 2013 & 1 & 1 & 554 & 600 & -6 &  812 &  837 & -25 & DL &  461 & N668DN & LGA & ATL & 116 &  762 & 6 &  0 & 2013-01-01 06:00:00\\\\\n",
       "\t 2013 & 1 & 1 & 554 & 558 & -4 &  740 &  728 &  12 & UA & 1696 & N39463 & EWR & ORD & 150 &  719 & 5 & 58 & 2013-01-01 05:00:00\\\\\n",
       "\\end{tabular}\n"
      ],
      "text/markdown": [
       "\n",
       "A tibble: 6 × 19\n",
       "\n",
       "| year &lt;int&gt; | month &lt;int&gt; | day &lt;int&gt; | dep_time &lt;int&gt; | sched_dep_time &lt;int&gt; | dep_delay &lt;dbl&gt; | arr_time &lt;int&gt; | sched_arr_time &lt;int&gt; | arr_delay &lt;dbl&gt; | carrier &lt;chr&gt; | flight &lt;int&gt; | tailnum &lt;chr&gt; | origin &lt;chr&gt; | dest &lt;chr&gt; | air_time &lt;dbl&gt; | distance &lt;dbl&gt; | hour &lt;dbl&gt; | minute &lt;dbl&gt; | time_hour &lt;dttm&gt; |\n",
       "|---|---|---|---|---|---|---|---|---|---|---|---|---|---|---|---|---|---|---|\n",
       "| 2013 | 1 | 1 | 517 | 515 |  2 |  830 |  819 |  11 | UA | 1545 | N14228 | EWR | IAH | 227 | 1400 | 5 | 15 | 2013-01-01 05:00:00 |\n",
       "| 2013 | 1 | 1 | 533 | 529 |  4 |  850 |  830 |  20 | UA | 1714 | N24211 | LGA | IAH | 227 | 1416 | 5 | 29 | 2013-01-01 05:00:00 |\n",
       "| 2013 | 1 | 1 | 542 | 540 |  2 |  923 |  850 |  33 | AA | 1141 | N619AA | JFK | MIA | 160 | 1089 | 5 | 40 | 2013-01-01 05:00:00 |\n",
       "| 2013 | 1 | 1 | 544 | 545 | -1 | 1004 | 1022 | -18 | B6 |  725 | N804JB | JFK | BQN | 183 | 1576 | 5 | 45 | 2013-01-01 05:00:00 |\n",
       "| 2013 | 1 | 1 | 554 | 600 | -6 |  812 |  837 | -25 | DL |  461 | N668DN | LGA | ATL | 116 |  762 | 6 |  0 | 2013-01-01 06:00:00 |\n",
       "| 2013 | 1 | 1 | 554 | 558 | -4 |  740 |  728 |  12 | UA | 1696 | N39463 | EWR | ORD | 150 |  719 | 5 | 58 | 2013-01-01 05:00:00 |\n",
       "\n"
      ],
      "text/plain": [
       "  year month day dep_time sched_dep_time dep_delay arr_time sched_arr_time\n",
       "1 2013 1     1   517      515             2         830      819          \n",
       "2 2013 1     1   533      529             4         850      830          \n",
       "3 2013 1     1   542      540             2         923      850          \n",
       "4 2013 1     1   544      545            -1        1004     1022          \n",
       "5 2013 1     1   554      600            -6         812      837          \n",
       "6 2013 1     1   554      558            -4         740      728          \n",
       "  arr_delay carrier flight tailnum origin dest air_time distance hour minute\n",
       "1  11       UA      1545   N14228  EWR    IAH  227      1400     5    15    \n",
       "2  20       UA      1714   N24211  LGA    IAH  227      1416     5    29    \n",
       "3  33       AA      1141   N619AA  JFK    MIA  160      1089     5    40    \n",
       "4 -18       B6       725   N804JB  JFK    BQN  183      1576     5    45    \n",
       "5 -25       DL       461   N668DN  LGA    ATL  116       762     6     0    \n",
       "6  12       UA      1696   N39463  EWR    ORD  150       719     5    58    \n",
       "  time_hour          \n",
       "1 2013-01-01 05:00:00\n",
       "2 2013-01-01 05:00:00\n",
       "3 2013-01-01 05:00:00\n",
       "4 2013-01-01 05:00:00\n",
       "5 2013-01-01 06:00:00\n",
       "6 2013-01-01 05:00:00"
      ]
     },
     "metadata": {},
     "output_type": "display_data"
    }
   ],
   "source": [
    "library(\"nycflights13\")\n",
    "library(\"tidyverse\")\n",
    "\n",
    "head(flights)"
   ]
  },
  {
   "cell_type": "markdown",
   "metadata": {},
   "source": [
    "*Student: The `Conflicts` are not a problem for this homework. They should be fixed for future-proofing, however.*"
   ]
  },
  {
   "cell_type": "code",
   "execution_count": 23,
   "metadata": {},
   "outputs": [
    {
     "data": {
      "text/plain": [
       "[1] ‘1.3.1’"
      ]
     },
     "metadata": {},
     "output_type": "display_data"
    },
    {
     "data": {
      "text/plain": [
       "[1] ‘1.1.1’"
      ]
     },
     "metadata": {},
     "output_type": "display_data"
    }
   ],
   "source": [
    "# Check versions\n",
    "packageVersion(\"tidyverse\")\n",
    "packageVersion(\"tidyselect\")"
   ]
  },
  {
   "cell_type": "code",
   "execution_count": 24,
   "metadata": {},
   "outputs": [
    {
     "data": {
      "text/html": [
       "<table class=\"dataframe\">\n",
       "<caption>A data.frame: 6 × 19</caption>\n",
       "<thead>\n",
       "\t<tr><th></th><th scope=col>year</th><th scope=col>month</th><th scope=col>day</th><th scope=col>dep_time</th><th scope=col>sched_dep_time</th><th scope=col>dep_delay</th><th scope=col>arr_time</th><th scope=col>sched_arr_time</th><th scope=col>arr_delay</th><th scope=col>carrier</th><th scope=col>flight</th><th scope=col>tailnum</th><th scope=col>origin</th><th scope=col>dest</th><th scope=col>air_time</th><th scope=col>distance</th><th scope=col>hour</th><th scope=col>minute</th><th scope=col>time_hour</th></tr>\n",
       "\t<tr><th></th><th scope=col>&lt;int&gt;</th><th scope=col>&lt;int&gt;</th><th scope=col>&lt;int&gt;</th><th scope=col>&lt;int&gt;</th><th scope=col>&lt;int&gt;</th><th scope=col>&lt;dbl&gt;</th><th scope=col>&lt;int&gt;</th><th scope=col>&lt;int&gt;</th><th scope=col>&lt;dbl&gt;</th><th scope=col>&lt;chr&gt;</th><th scope=col>&lt;int&gt;</th><th scope=col>&lt;chr&gt;</th><th scope=col>&lt;chr&gt;</th><th scope=col>&lt;chr&gt;</th><th scope=col>&lt;dbl&gt;</th><th scope=col>&lt;dbl&gt;</th><th scope=col>&lt;dbl&gt;</th><th scope=col>&lt;dbl&gt;</th><th scope=col>&lt;dttm&gt;</th></tr>\n",
       "</thead>\n",
       "<tbody>\n",
       "\t<tr><th scope=row>1</th><td>2013</td><td>1</td><td>1</td><td>517</td><td>515</td><td> 2</td><td> 830</td><td> 819</td><td> 11</td><td>UA</td><td>1545</td><td>N14228</td><td>EWR</td><td>IAH</td><td>227</td><td>1400</td><td>5</td><td>15</td><td>2013-01-01 05:00:00</td></tr>\n",
       "\t<tr><th scope=row>2</th><td>2013</td><td>1</td><td>1</td><td>533</td><td>529</td><td> 4</td><td> 850</td><td> 830</td><td> 20</td><td>UA</td><td>1714</td><td>N24211</td><td>LGA</td><td>IAH</td><td>227</td><td>1416</td><td>5</td><td>29</td><td>2013-01-01 05:00:00</td></tr>\n",
       "\t<tr><th scope=row>3</th><td>2013</td><td>1</td><td>1</td><td>542</td><td>540</td><td> 2</td><td> 923</td><td> 850</td><td> 33</td><td>AA</td><td>1141</td><td>N619AA</td><td>JFK</td><td>MIA</td><td>160</td><td>1089</td><td>5</td><td>40</td><td>2013-01-01 05:00:00</td></tr>\n",
       "\t<tr><th scope=row>4</th><td>2013</td><td>1</td><td>1</td><td>544</td><td>545</td><td>-1</td><td>1004</td><td>1022</td><td>-18</td><td>B6</td><td> 725</td><td>N804JB</td><td>JFK</td><td>BQN</td><td>183</td><td>1576</td><td>5</td><td>45</td><td>2013-01-01 05:00:00</td></tr>\n",
       "\t<tr><th scope=row>5</th><td>2013</td><td>1</td><td>1</td><td>554</td><td>600</td><td>-6</td><td> 812</td><td> 837</td><td>-25</td><td>DL</td><td> 461</td><td>N668DN</td><td>LGA</td><td>ATL</td><td>116</td><td> 762</td><td>6</td><td> 0</td><td>2013-01-01 06:00:00</td></tr>\n",
       "\t<tr><th scope=row>6</th><td>2013</td><td>1</td><td>1</td><td>554</td><td>558</td><td>-4</td><td> 740</td><td> 728</td><td> 12</td><td>UA</td><td>1696</td><td>N39463</td><td>EWR</td><td>ORD</td><td>150</td><td> 719</td><td>5</td><td>58</td><td>2013-01-01 05:00:00</td></tr>\n",
       "</tbody>\n",
       "</table>\n"
      ],
      "text/latex": [
       "A data.frame: 6 × 19\n",
       "\\begin{tabular}{r|lllllllllllllllllll}\n",
       "  & year & month & day & dep\\_time & sched\\_dep\\_time & dep\\_delay & arr\\_time & sched\\_arr\\_time & arr\\_delay & carrier & flight & tailnum & origin & dest & air\\_time & distance & hour & minute & time\\_hour\\\\\n",
       "  & <int> & <int> & <int> & <int> & <int> & <dbl> & <int> & <int> & <dbl> & <chr> & <int> & <chr> & <chr> & <chr> & <dbl> & <dbl> & <dbl> & <dbl> & <dttm>\\\\\n",
       "\\hline\n",
       "\t1 & 2013 & 1 & 1 & 517 & 515 &  2 &  830 &  819 &  11 & UA & 1545 & N14228 & EWR & IAH & 227 & 1400 & 5 & 15 & 2013-01-01 05:00:00\\\\\n",
       "\t2 & 2013 & 1 & 1 & 533 & 529 &  4 &  850 &  830 &  20 & UA & 1714 & N24211 & LGA & IAH & 227 & 1416 & 5 & 29 & 2013-01-01 05:00:00\\\\\n",
       "\t3 & 2013 & 1 & 1 & 542 & 540 &  2 &  923 &  850 &  33 & AA & 1141 & N619AA & JFK & MIA & 160 & 1089 & 5 & 40 & 2013-01-01 05:00:00\\\\\n",
       "\t4 & 2013 & 1 & 1 & 544 & 545 & -1 & 1004 & 1022 & -18 & B6 &  725 & N804JB & JFK & BQN & 183 & 1576 & 5 & 45 & 2013-01-01 05:00:00\\\\\n",
       "\t5 & 2013 & 1 & 1 & 554 & 600 & -6 &  812 &  837 & -25 & DL &  461 & N668DN & LGA & ATL & 116 &  762 & 6 &  0 & 2013-01-01 06:00:00\\\\\n",
       "\t6 & 2013 & 1 & 1 & 554 & 558 & -4 &  740 &  728 &  12 & UA & 1696 & N39463 & EWR & ORD & 150 &  719 & 5 & 58 & 2013-01-01 05:00:00\\\\\n",
       "\\end{tabular}\n"
      ],
      "text/markdown": [
       "\n",
       "A data.frame: 6 × 19\n",
       "\n",
       "| <!--/--> | year &lt;int&gt; | month &lt;int&gt; | day &lt;int&gt; | dep_time &lt;int&gt; | sched_dep_time &lt;int&gt; | dep_delay &lt;dbl&gt; | arr_time &lt;int&gt; | sched_arr_time &lt;int&gt; | arr_delay &lt;dbl&gt; | carrier &lt;chr&gt; | flight &lt;int&gt; | tailnum &lt;chr&gt; | origin &lt;chr&gt; | dest &lt;chr&gt; | air_time &lt;dbl&gt; | distance &lt;dbl&gt; | hour &lt;dbl&gt; | minute &lt;dbl&gt; | time_hour &lt;dttm&gt; |\n",
       "|---|---|---|---|---|---|---|---|---|---|---|---|---|---|---|---|---|---|---|---|\n",
       "| 1 | 2013 | 1 | 1 | 517 | 515 |  2 |  830 |  819 |  11 | UA | 1545 | N14228 | EWR | IAH | 227 | 1400 | 5 | 15 | 2013-01-01 05:00:00 |\n",
       "| 2 | 2013 | 1 | 1 | 533 | 529 |  4 |  850 |  830 |  20 | UA | 1714 | N24211 | LGA | IAH | 227 | 1416 | 5 | 29 | 2013-01-01 05:00:00 |\n",
       "| 3 | 2013 | 1 | 1 | 542 | 540 |  2 |  923 |  850 |  33 | AA | 1141 | N619AA | JFK | MIA | 160 | 1089 | 5 | 40 | 2013-01-01 05:00:00 |\n",
       "| 4 | 2013 | 1 | 1 | 544 | 545 | -1 | 1004 | 1022 | -18 | B6 |  725 | N804JB | JFK | BQN | 183 | 1576 | 5 | 45 | 2013-01-01 05:00:00 |\n",
       "| 5 | 2013 | 1 | 1 | 554 | 600 | -6 |  812 |  837 | -25 | DL |  461 | N668DN | LGA | ATL | 116 |  762 | 6 |  0 | 2013-01-01 06:00:00 |\n",
       "| 6 | 2013 | 1 | 1 | 554 | 558 | -4 |  740 |  728 |  12 | UA | 1696 | N39463 | EWR | ORD | 150 |  719 | 5 | 58 | 2013-01-01 05:00:00 |\n",
       "\n"
      ],
      "text/plain": [
       "  year month day dep_time sched_dep_time dep_delay arr_time sched_arr_time\n",
       "1 2013 1     1   517      515             2         830      819          \n",
       "2 2013 1     1   533      529             4         850      830          \n",
       "3 2013 1     1   542      540             2         923      850          \n",
       "4 2013 1     1   544      545            -1        1004     1022          \n",
       "5 2013 1     1   554      600            -6         812      837          \n",
       "6 2013 1     1   554      558            -4         740      728          \n",
       "  arr_delay carrier flight tailnum origin dest air_time distance hour minute\n",
       "1  11       UA      1545   N14228  EWR    IAH  227      1400     5    15    \n",
       "2  20       UA      1714   N24211  LGA    IAH  227      1416     5    29    \n",
       "3  33       AA      1141   N619AA  JFK    MIA  160      1089     5    40    \n",
       "4 -18       B6       725   N804JB  JFK    BQN  183      1576     5    45    \n",
       "5 -25       DL       461   N668DN  LGA    ATL  116       762     6     0    \n",
       "6  12       UA      1696   N39463  EWR    ORD  150       719     5    58    \n",
       "  time_hour          \n",
       "1 2013-01-01 05:00:00\n",
       "2 2013-01-01 05:00:00\n",
       "3 2013-01-01 05:00:00\n",
       "4 2013-01-01 05:00:00\n",
       "5 2013-01-01 06:00:00\n",
       "6 2013-01-01 05:00:00"
      ]
     },
     "metadata": {},
     "output_type": "display_data"
    }
   ],
   "source": [
    "# Convert to dataframe for easier handling\n",
    "df = as.data.frame(flights)\n",
    "head(df) "
   ]
  },
  {
   "cell_type": "markdown",
   "metadata": {
    "slideshow": {
     "slide_type": "slide"
    }
   },
   "source": [
    "**Instructions**\n",
    "1. Find all flights that:\n",
    "    1. Had an arrival delay of two or more hours\n",
    "    2. Flew to Houston (IAH or HOU)\n",
    "    3. Were operated by United, American, or Delta\n",
    "    4. Departed in summer (July, August, and September)\n",
    "    5. Arrived more than two hours late, but didn’t leave late\n",
    "    6. Were delayed by at least an hour, but made up over 30 minutes in flight"
   ]
  },
  {
   "cell_type": "code",
   "execution_count": 51,
   "metadata": {},
   "outputs": [
    {
     "data": {
      "text/html": [
       "<table class=\"dataframe\">\n",
       "<caption>A data.frame: 6 × 19</caption>\n",
       "<thead>\n",
       "\t<tr><th></th><th scope=col>year</th><th scope=col>month</th><th scope=col>day</th><th scope=col>dep_time</th><th scope=col>sched_dep_time</th><th scope=col>dep_delay</th><th scope=col>arr_time</th><th scope=col>sched_arr_time</th><th scope=col>arr_delay</th><th scope=col>carrier</th><th scope=col>flight</th><th scope=col>tailnum</th><th scope=col>origin</th><th scope=col>dest</th><th scope=col>air_time</th><th scope=col>distance</th><th scope=col>hour</th><th scope=col>minute</th><th scope=col>time_hour</th></tr>\n",
       "\t<tr><th></th><th scope=col>&lt;int&gt;</th><th scope=col>&lt;int&gt;</th><th scope=col>&lt;int&gt;</th><th scope=col>&lt;int&gt;</th><th scope=col>&lt;int&gt;</th><th scope=col>&lt;dbl&gt;</th><th scope=col>&lt;int&gt;</th><th scope=col>&lt;int&gt;</th><th scope=col>&lt;dbl&gt;</th><th scope=col>&lt;chr&gt;</th><th scope=col>&lt;int&gt;</th><th scope=col>&lt;chr&gt;</th><th scope=col>&lt;chr&gt;</th><th scope=col>&lt;chr&gt;</th><th scope=col>&lt;dbl&gt;</th><th scope=col>&lt;dbl&gt;</th><th scope=col>&lt;dbl&gt;</th><th scope=col>&lt;dbl&gt;</th><th scope=col>&lt;dttm&gt;</th></tr>\n",
       "</thead>\n",
       "<tbody>\n",
       "\t<tr><th scope=row>1</th><td>2013</td><td>1</td><td>1</td><td> 811</td><td> 630</td><td>101</td><td>1047</td><td> 830</td><td>137</td><td>MQ</td><td>4576</td><td>N531MQ</td><td>LGA</td><td>CLT</td><td>118</td><td> 544</td><td> 6</td><td>30</td><td>2013-01-01 06:00:00</td></tr>\n",
       "\t<tr><th scope=row>2</th><td>2013</td><td>1</td><td>1</td><td> 848</td><td>1835</td><td>853</td><td>1001</td><td>1950</td><td>851</td><td>MQ</td><td>3944</td><td>N942MQ</td><td>JFK</td><td>BWI</td><td> 41</td><td> 184</td><td>18</td><td>35</td><td>2013-01-01 18:00:00</td></tr>\n",
       "\t<tr><th scope=row>3</th><td>2013</td><td>1</td><td>1</td><td> 957</td><td> 733</td><td>144</td><td>1056</td><td> 853</td><td>123</td><td>UA</td><td> 856</td><td>N534UA</td><td>EWR</td><td>BOS</td><td> 37</td><td> 200</td><td> 7</td><td>33</td><td>2013-01-01 07:00:00</td></tr>\n",
       "\t<tr><th scope=row>4</th><td>2013</td><td>1</td><td>1</td><td>1114</td><td> 900</td><td>134</td><td>1447</td><td>1222</td><td>145</td><td>UA</td><td>1086</td><td>N76502</td><td>LGA</td><td>IAH</td><td>248</td><td>1416</td><td> 9</td><td> 0</td><td>2013-01-01 09:00:00</td></tr>\n",
       "\t<tr><th scope=row>5</th><td>2013</td><td>1</td><td>1</td><td>1505</td><td>1310</td><td>115</td><td>1638</td><td>1431</td><td>127</td><td>EV</td><td>4497</td><td>N17984</td><td>EWR</td><td>RIC</td><td> 63</td><td> 277</td><td>13</td><td>10</td><td>2013-01-01 13:00:00</td></tr>\n",
       "\t<tr><th scope=row>6</th><td>2013</td><td>1</td><td>1</td><td>1525</td><td>1340</td><td>105</td><td>1831</td><td>1626</td><td>125</td><td>B6</td><td> 525</td><td>N231JB</td><td>EWR</td><td>MCO</td><td>152</td><td> 937</td><td>13</td><td>40</td><td>2013-01-01 13:00:00</td></tr>\n",
       "</tbody>\n",
       "</table>\n"
      ],
      "text/latex": [
       "A data.frame: 6 × 19\n",
       "\\begin{tabular}{r|lllllllllllllllllll}\n",
       "  & year & month & day & dep\\_time & sched\\_dep\\_time & dep\\_delay & arr\\_time & sched\\_arr\\_time & arr\\_delay & carrier & flight & tailnum & origin & dest & air\\_time & distance & hour & minute & time\\_hour\\\\\n",
       "  & <int> & <int> & <int> & <int> & <int> & <dbl> & <int> & <int> & <dbl> & <chr> & <int> & <chr> & <chr> & <chr> & <dbl> & <dbl> & <dbl> & <dbl> & <dttm>\\\\\n",
       "\\hline\n",
       "\t1 & 2013 & 1 & 1 &  811 &  630 & 101 & 1047 &  830 & 137 & MQ & 4576 & N531MQ & LGA & CLT & 118 &  544 &  6 & 30 & 2013-01-01 06:00:00\\\\\n",
       "\t2 & 2013 & 1 & 1 &  848 & 1835 & 853 & 1001 & 1950 & 851 & MQ & 3944 & N942MQ & JFK & BWI &  41 &  184 & 18 & 35 & 2013-01-01 18:00:00\\\\\n",
       "\t3 & 2013 & 1 & 1 &  957 &  733 & 144 & 1056 &  853 & 123 & UA &  856 & N534UA & EWR & BOS &  37 &  200 &  7 & 33 & 2013-01-01 07:00:00\\\\\n",
       "\t4 & 2013 & 1 & 1 & 1114 &  900 & 134 & 1447 & 1222 & 145 & UA & 1086 & N76502 & LGA & IAH & 248 & 1416 &  9 &  0 & 2013-01-01 09:00:00\\\\\n",
       "\t5 & 2013 & 1 & 1 & 1505 & 1310 & 115 & 1638 & 1431 & 127 & EV & 4497 & N17984 & EWR & RIC &  63 &  277 & 13 & 10 & 2013-01-01 13:00:00\\\\\n",
       "\t6 & 2013 & 1 & 1 & 1525 & 1340 & 105 & 1831 & 1626 & 125 & B6 &  525 & N231JB & EWR & MCO & 152 &  937 & 13 & 40 & 2013-01-01 13:00:00\\\\\n",
       "\\end{tabular}\n"
      ],
      "text/markdown": [
       "\n",
       "A data.frame: 6 × 19\n",
       "\n",
       "| <!--/--> | year &lt;int&gt; | month &lt;int&gt; | day &lt;int&gt; | dep_time &lt;int&gt; | sched_dep_time &lt;int&gt; | dep_delay &lt;dbl&gt; | arr_time &lt;int&gt; | sched_arr_time &lt;int&gt; | arr_delay &lt;dbl&gt; | carrier &lt;chr&gt; | flight &lt;int&gt; | tailnum &lt;chr&gt; | origin &lt;chr&gt; | dest &lt;chr&gt; | air_time &lt;dbl&gt; | distance &lt;dbl&gt; | hour &lt;dbl&gt; | minute &lt;dbl&gt; | time_hour &lt;dttm&gt; |\n",
       "|---|---|---|---|---|---|---|---|---|---|---|---|---|---|---|---|---|---|---|---|\n",
       "| 1 | 2013 | 1 | 1 |  811 |  630 | 101 | 1047 |  830 | 137 | MQ | 4576 | N531MQ | LGA | CLT | 118 |  544 |  6 | 30 | 2013-01-01 06:00:00 |\n",
       "| 2 | 2013 | 1 | 1 |  848 | 1835 | 853 | 1001 | 1950 | 851 | MQ | 3944 | N942MQ | JFK | BWI |  41 |  184 | 18 | 35 | 2013-01-01 18:00:00 |\n",
       "| 3 | 2013 | 1 | 1 |  957 |  733 | 144 | 1056 |  853 | 123 | UA |  856 | N534UA | EWR | BOS |  37 |  200 |  7 | 33 | 2013-01-01 07:00:00 |\n",
       "| 4 | 2013 | 1 | 1 | 1114 |  900 | 134 | 1447 | 1222 | 145 | UA | 1086 | N76502 | LGA | IAH | 248 | 1416 |  9 |  0 | 2013-01-01 09:00:00 |\n",
       "| 5 | 2013 | 1 | 1 | 1505 | 1310 | 115 | 1638 | 1431 | 127 | EV | 4497 | N17984 | EWR | RIC |  63 |  277 | 13 | 10 | 2013-01-01 13:00:00 |\n",
       "| 6 | 2013 | 1 | 1 | 1525 | 1340 | 105 | 1831 | 1626 | 125 | B6 |  525 | N231JB | EWR | MCO | 152 |  937 | 13 | 40 | 2013-01-01 13:00:00 |\n",
       "\n"
      ],
      "text/plain": [
       "  year month day dep_time sched_dep_time dep_delay arr_time sched_arr_time\n",
       "1 2013 1     1    811      630           101       1047      830          \n",
       "2 2013 1     1    848     1835           853       1001     1950          \n",
       "3 2013 1     1    957      733           144       1056      853          \n",
       "4 2013 1     1   1114      900           134       1447     1222          \n",
       "5 2013 1     1   1505     1310           115       1638     1431          \n",
       "6 2013 1     1   1525     1340           105       1831     1626          \n",
       "  arr_delay carrier flight tailnum origin dest air_time distance hour minute\n",
       "1 137       MQ      4576   N531MQ  LGA    CLT  118       544      6   30    \n",
       "2 851       MQ      3944   N942MQ  JFK    BWI   41       184     18   35    \n",
       "3 123       UA       856   N534UA  EWR    BOS   37       200      7   33    \n",
       "4 145       UA      1086   N76502  LGA    IAH  248      1416      9    0    \n",
       "5 127       EV      4497   N17984  EWR    RIC   63       277     13   10    \n",
       "6 125       B6       525   N231JB  EWR    MCO  152       937     13   40    \n",
       "  time_hour          \n",
       "1 2013-01-01 06:00:00\n",
       "2 2013-01-01 18:00:00\n",
       "3 2013-01-01 07:00:00\n",
       "4 2013-01-01 09:00:00\n",
       "5 2013-01-01 13:00:00\n",
       "6 2013-01-01 13:00:00"
      ]
     },
     "metadata": {},
     "output_type": "display_data"
    },
    {
     "data": {
      "image/png": "[encoded data removed]",
      "text/plain": [
       "Plot with title “density.default(x = df$arr_delay, na.rm = TRUE)”"
      ]
     },
     "metadata": {
      "image/png": {
       "height": 420,
       "width": 420
      }
     },
     "output_type": "display_data"
    }
   ],
   "source": [
    "# A. Had an arrival delay of two or more hours (120 mins)\n",
    "\n",
    "# Given values of 'arr_delay' (x-axis of density plot), these seem to be reported in minutes as unit\n",
    "d <- density(df$arr_delay, na.rm = TRUE)\n",
    "plot(d)\n",
    "\n",
    "# Report flights with 120 or more mins arrival delays\n",
    "head(filter(df, arr_delay >= 120))"
   ]
  },
  {
   "cell_type": "code",
   "execution_count": 27,
   "metadata": {},
   "outputs": [
    {
     "data": {
      "text/html": [
       "<table class=\"dataframe\">\n",
       "<caption>A data.frame: 6 × 19</caption>\n",
       "<thead>\n",
       "\t<tr><th></th><th scope=col>year</th><th scope=col>month</th><th scope=col>day</th><th scope=col>dep_time</th><th scope=col>sched_dep_time</th><th scope=col>dep_delay</th><th scope=col>arr_time</th><th scope=col>sched_arr_time</th><th scope=col>arr_delay</th><th scope=col>carrier</th><th scope=col>flight</th><th scope=col>tailnum</th><th scope=col>origin</th><th scope=col>dest</th><th scope=col>air_time</th><th scope=col>distance</th><th scope=col>hour</th><th scope=col>minute</th><th scope=col>time_hour</th></tr>\n",
       "\t<tr><th></th><th scope=col>&lt;int&gt;</th><th scope=col>&lt;int&gt;</th><th scope=col>&lt;int&gt;</th><th scope=col>&lt;int&gt;</th><th scope=col>&lt;int&gt;</th><th scope=col>&lt;dbl&gt;</th><th scope=col>&lt;int&gt;</th><th scope=col>&lt;int&gt;</th><th scope=col>&lt;dbl&gt;</th><th scope=col>&lt;chr&gt;</th><th scope=col>&lt;int&gt;</th><th scope=col>&lt;chr&gt;</th><th scope=col>&lt;chr&gt;</th><th scope=col>&lt;chr&gt;</th><th scope=col>&lt;dbl&gt;</th><th scope=col>&lt;dbl&gt;</th><th scope=col>&lt;dbl&gt;</th><th scope=col>&lt;dbl&gt;</th><th scope=col>&lt;dttm&gt;</th></tr>\n",
       "</thead>\n",
       "<tbody>\n",
       "\t<tr><th scope=row>1</th><td>2013</td><td>1</td><td>1</td><td>517</td><td>515</td><td> 2</td><td> 830</td><td> 819</td><td>11</td><td>UA</td><td>1545</td><td>N14228</td><td>EWR</td><td>IAH</td><td>227</td><td>1400</td><td>5</td><td>15</td><td>2013-01-01 05:00:00</td></tr>\n",
       "\t<tr><th scope=row>2</th><td>2013</td><td>1</td><td>1</td><td>533</td><td>529</td><td> 4</td><td> 850</td><td> 830</td><td>20</td><td>UA</td><td>1714</td><td>N24211</td><td>LGA</td><td>IAH</td><td>227</td><td>1416</td><td>5</td><td>29</td><td>2013-01-01 05:00:00</td></tr>\n",
       "\t<tr><th scope=row>3</th><td>2013</td><td>1</td><td>1</td><td>623</td><td>627</td><td>-4</td><td> 933</td><td> 932</td><td> 1</td><td>UA</td><td> 496</td><td>N459UA</td><td>LGA</td><td>IAH</td><td>229</td><td>1416</td><td>6</td><td>27</td><td>2013-01-01 06:00:00</td></tr>\n",
       "\t<tr><th scope=row>4</th><td>2013</td><td>1</td><td>1</td><td>728</td><td>732</td><td>-4</td><td>1041</td><td>1038</td><td> 3</td><td>UA</td><td> 473</td><td>N488UA</td><td>LGA</td><td>IAH</td><td>238</td><td>1416</td><td>7</td><td>32</td><td>2013-01-01 07:00:00</td></tr>\n",
       "\t<tr><th scope=row>5</th><td>2013</td><td>1</td><td>1</td><td>739</td><td>739</td><td> 0</td><td>1104</td><td>1038</td><td>26</td><td>UA</td><td>1479</td><td>N37408</td><td>EWR</td><td>IAH</td><td>249</td><td>1400</td><td>7</td><td>39</td><td>2013-01-01 07:00:00</td></tr>\n",
       "\t<tr><th scope=row>6</th><td>2013</td><td>1</td><td>1</td><td>908</td><td>908</td><td> 0</td><td>1228</td><td>1219</td><td> 9</td><td>UA</td><td>1220</td><td>N12216</td><td>EWR</td><td>IAH</td><td>233</td><td>1400</td><td>9</td><td> 8</td><td>2013-01-01 09:00:00</td></tr>\n",
       "</tbody>\n",
       "</table>\n"
      ],
      "text/latex": [
       "A data.frame: 6 × 19\n",
       "\\begin{tabular}{r|lllllllllllllllllll}\n",
       "  & year & month & day & dep\\_time & sched\\_dep\\_time & dep\\_delay & arr\\_time & sched\\_arr\\_time & arr\\_delay & carrier & flight & tailnum & origin & dest & air\\_time & distance & hour & minute & time\\_hour\\\\\n",
       "  & <int> & <int> & <int> & <int> & <int> & <dbl> & <int> & <int> & <dbl> & <chr> & <int> & <chr> & <chr> & <chr> & <dbl> & <dbl> & <dbl> & <dbl> & <dttm>\\\\\n",
       "\\hline\n",
       "\t1 & 2013 & 1 & 1 & 517 & 515 &  2 &  830 &  819 & 11 & UA & 1545 & N14228 & EWR & IAH & 227 & 1400 & 5 & 15 & 2013-01-01 05:00:00\\\\\n",
       "\t2 & 2013 & 1 & 1 & 533 & 529 &  4 &  850 &  830 & 20 & UA & 1714 & N24211 & LGA & IAH & 227 & 1416 & 5 & 29 & 2013-01-01 05:00:00\\\\\n",
       "\t3 & 2013 & 1 & 1 & 623 & 627 & -4 &  933 &  932 &  1 & UA &  496 & N459UA & LGA & IAH & 229 & 1416 & 6 & 27 & 2013-01-01 06:00:00\\\\\n",
       "\t4 & 2013 & 1 & 1 & 728 & 732 & -4 & 1041 & 1038 &  3 & UA &  473 & N488UA & LGA & IAH & 238 & 1416 & 7 & 32 & 2013-01-01 07:00:00\\\\\n",
       "\t5 & 2013 & 1 & 1 & 739 & 739 &  0 & 1104 & 1038 & 26 & UA & 1479 & N37408 & EWR & IAH & 249 & 1400 & 7 & 39 & 2013-01-01 07:00:00\\\\\n",
       "\t6 & 2013 & 1 & 1 & 908 & 908 &  0 & 1228 & 1219 &  9 & UA & 1220 & N12216 & EWR & IAH & 233 & 1400 & 9 &  8 & 2013-01-01 09:00:00\\\\\n",
       "\\end{tabular}\n"
      ],
      "text/markdown": [
       "\n",
       "A data.frame: 6 × 19\n",
       "\n",
       "| <!--/--> | year &lt;int&gt; | month &lt;int&gt; | day &lt;int&gt; | dep_time &lt;int&gt; | sched_dep_time &lt;int&gt; | dep_delay &lt;dbl&gt; | arr_time &lt;int&gt; | sched_arr_time &lt;int&gt; | arr_delay &lt;dbl&gt; | carrier &lt;chr&gt; | flight &lt;int&gt; | tailnum &lt;chr&gt; | origin &lt;chr&gt; | dest &lt;chr&gt; | air_time &lt;dbl&gt; | distance &lt;dbl&gt; | hour &lt;dbl&gt; | minute &lt;dbl&gt; | time_hour &lt;dttm&gt; |\n",
       "|---|---|---|---|---|---|---|---|---|---|---|---|---|---|---|---|---|---|---|---|\n",
       "| 1 | 2013 | 1 | 1 | 517 | 515 |  2 |  830 |  819 | 11 | UA | 1545 | N14228 | EWR | IAH | 227 | 1400 | 5 | 15 | 2013-01-01 05:00:00 |\n",
       "| 2 | 2013 | 1 | 1 | 533 | 529 |  4 |  850 |  830 | 20 | UA | 1714 | N24211 | LGA | IAH | 227 | 1416 | 5 | 29 | 2013-01-01 05:00:00 |\n",
       "| 3 | 2013 | 1 | 1 | 623 | 627 | -4 |  933 |  932 |  1 | UA |  496 | N459UA | LGA | IAH | 229 | 1416 | 6 | 27 | 2013-01-01 06:00:00 |\n",
       "| 4 | 2013 | 1 | 1 | 728 | 732 | -4 | 1041 | 1038 |  3 | UA |  473 | N488UA | LGA | IAH | 238 | 1416 | 7 | 32 | 2013-01-01 07:00:00 |\n",
       "| 5 | 2013 | 1 | 1 | 739 | 739 |  0 | 1104 | 1038 | 26 | UA | 1479 | N37408 | EWR | IAH | 249 | 1400 | 7 | 39 | 2013-01-01 07:00:00 |\n",
       "| 6 | 2013 | 1 | 1 | 908 | 908 |  0 | 1228 | 1219 |  9 | UA | 1220 | N12216 | EWR | IAH | 233 | 1400 | 9 |  8 | 2013-01-01 09:00:00 |\n",
       "\n"
      ],
      "text/plain": [
       "  year month day dep_time sched_dep_time dep_delay arr_time sched_arr_time\n",
       "1 2013 1     1   517      515             2         830      819          \n",
       "2 2013 1     1   533      529             4         850      830          \n",
       "3 2013 1     1   623      627            -4         933      932          \n",
       "4 2013 1     1   728      732            -4        1041     1038          \n",
       "5 2013 1     1   739      739             0        1104     1038          \n",
       "6 2013 1     1   908      908             0        1228     1219          \n",
       "  arr_delay carrier flight tailnum origin dest air_time distance hour minute\n",
       "1 11        UA      1545   N14228  EWR    IAH  227      1400     5    15    \n",
       "2 20        UA      1714   N24211  LGA    IAH  227      1416     5    29    \n",
       "3  1        UA       496   N459UA  LGA    IAH  229      1416     6    27    \n",
       "4  3        UA       473   N488UA  LGA    IAH  238      1416     7    32    \n",
       "5 26        UA      1479   N37408  EWR    IAH  249      1400     7    39    \n",
       "6  9        UA      1220   N12216  EWR    IAH  233      1400     9     8    \n",
       "  time_hour          \n",
       "1 2013-01-01 05:00:00\n",
       "2 2013-01-01 05:00:00\n",
       "3 2013-01-01 06:00:00\n",
       "4 2013-01-01 07:00:00\n",
       "5 2013-01-01 07:00:00\n",
       "6 2013-01-01 09:00:00"
      ]
     },
     "metadata": {},
     "output_type": "display_data"
    }
   ],
   "source": [
    "# B. Flew to Houston (IAH or HOU)\n",
    "head(filter(df, dest == 'IAH' | dest == 'HOU'))"
   ]
  },
  {
   "cell_type": "code",
   "execution_count": 28,
   "metadata": {},
   "outputs": [
    {
     "data": {
      "text/html": [
       "<table class=\"dataframe\">\n",
       "<caption>A data.frame: 6 × 1</caption>\n",
       "<thead>\n",
       "\t<tr><th></th><th scope=col>carrier</th></tr>\n",
       "\t<tr><th></th><th scope=col>&lt;chr&gt;</th></tr>\n",
       "</thead>\n",
       "<tbody>\n",
       "\t<tr><th scope=row>1</th><td>UA</td></tr>\n",
       "\t<tr><th scope=row>3</th><td>AA</td></tr>\n",
       "\t<tr><th scope=row>4</th><td>B6</td></tr>\n",
       "\t<tr><th scope=row>5</th><td>DL</td></tr>\n",
       "\t<tr><th scope=row>8</th><td>EV</td></tr>\n",
       "\t<tr><th scope=row>19</th><td>MQ</td></tr>\n",
       "</tbody>\n",
       "</table>\n"
      ],
      "text/latex": [
       "A data.frame: 6 × 1\n",
       "\\begin{tabular}{r|l}\n",
       "  & carrier\\\\\n",
       "  & <chr>\\\\\n",
       "\\hline\n",
       "\t1 & UA\\\\\n",
       "\t3 & AA\\\\\n",
       "\t4 & B6\\\\\n",
       "\t5 & DL\\\\\n",
       "\t8 & EV\\\\\n",
       "\t19 & MQ\\\\\n",
       "\\end{tabular}\n"
      ],
      "text/markdown": [
       "\n",
       "A data.frame: 6 × 1\n",
       "\n",
       "| <!--/--> | carrier &lt;chr&gt; |\n",
       "|---|---|\n",
       "| 1 | UA |\n",
       "| 3 | AA |\n",
       "| 4 | B6 |\n",
       "| 5 | DL |\n",
       "| 8 | EV |\n",
       "| 19 | MQ |\n",
       "\n"
      ],
      "text/plain": [
       "   carrier\n",
       "1  UA     \n",
       "3  AA     \n",
       "4  B6     \n",
       "5  DL     \n",
       "8  EV     \n",
       "19 MQ     "
      ]
     },
     "metadata": {},
     "output_type": "display_data"
    },
    {
     "data": {
      "text/html": [
       "<table class=\"dataframe\">\n",
       "<caption>A data.frame: 6 × 19</caption>\n",
       "<thead>\n",
       "\t<tr><th></th><th scope=col>year</th><th scope=col>month</th><th scope=col>day</th><th scope=col>dep_time</th><th scope=col>sched_dep_time</th><th scope=col>dep_delay</th><th scope=col>arr_time</th><th scope=col>sched_arr_time</th><th scope=col>arr_delay</th><th scope=col>carrier</th><th scope=col>flight</th><th scope=col>tailnum</th><th scope=col>origin</th><th scope=col>dest</th><th scope=col>air_time</th><th scope=col>distance</th><th scope=col>hour</th><th scope=col>minute</th><th scope=col>time_hour</th></tr>\n",
       "\t<tr><th></th><th scope=col>&lt;int&gt;</th><th scope=col>&lt;int&gt;</th><th scope=col>&lt;int&gt;</th><th scope=col>&lt;int&gt;</th><th scope=col>&lt;int&gt;</th><th scope=col>&lt;dbl&gt;</th><th scope=col>&lt;int&gt;</th><th scope=col>&lt;int&gt;</th><th scope=col>&lt;dbl&gt;</th><th scope=col>&lt;chr&gt;</th><th scope=col>&lt;int&gt;</th><th scope=col>&lt;chr&gt;</th><th scope=col>&lt;chr&gt;</th><th scope=col>&lt;chr&gt;</th><th scope=col>&lt;dbl&gt;</th><th scope=col>&lt;dbl&gt;</th><th scope=col>&lt;dbl&gt;</th><th scope=col>&lt;dbl&gt;</th><th scope=col>&lt;dttm&gt;</th></tr>\n",
       "</thead>\n",
       "<tbody>\n",
       "\t<tr><th scope=row>1</th><td>2013</td><td>1</td><td>1</td><td>517</td><td>515</td><td> 2</td><td>830</td><td>819</td><td> 11</td><td>UA</td><td>1545</td><td>N14228</td><td>EWR</td><td>IAH</td><td>227</td><td>1400</td><td>5</td><td>15</td><td>2013-01-01 05:00:00</td></tr>\n",
       "\t<tr><th scope=row>2</th><td>2013</td><td>1</td><td>1</td><td>533</td><td>529</td><td> 4</td><td>850</td><td>830</td><td> 20</td><td>UA</td><td>1714</td><td>N24211</td><td>LGA</td><td>IAH</td><td>227</td><td>1416</td><td>5</td><td>29</td><td>2013-01-01 05:00:00</td></tr>\n",
       "\t<tr><th scope=row>3</th><td>2013</td><td>1</td><td>1</td><td>542</td><td>540</td><td> 2</td><td>923</td><td>850</td><td> 33</td><td>AA</td><td>1141</td><td>N619AA</td><td>JFK</td><td>MIA</td><td>160</td><td>1089</td><td>5</td><td>40</td><td>2013-01-01 05:00:00</td></tr>\n",
       "\t<tr><th scope=row>4</th><td>2013</td><td>1</td><td>1</td><td>554</td><td>600</td><td>-6</td><td>812</td><td>837</td><td>-25</td><td>DL</td><td> 461</td><td>N668DN</td><td>LGA</td><td>ATL</td><td>116</td><td> 762</td><td>6</td><td> 0</td><td>2013-01-01 06:00:00</td></tr>\n",
       "\t<tr><th scope=row>5</th><td>2013</td><td>1</td><td>1</td><td>554</td><td>558</td><td>-4</td><td>740</td><td>728</td><td> 12</td><td>UA</td><td>1696</td><td>N39463</td><td>EWR</td><td>ORD</td><td>150</td><td> 719</td><td>5</td><td>58</td><td>2013-01-01 05:00:00</td></tr>\n",
       "\t<tr><th scope=row>6</th><td>2013</td><td>1</td><td>1</td><td>558</td><td>600</td><td>-2</td><td>753</td><td>745</td><td>  8</td><td>AA</td><td> 301</td><td>N3ALAA</td><td>LGA</td><td>ORD</td><td>138</td><td> 733</td><td>6</td><td> 0</td><td>2013-01-01 06:00:00</td></tr>\n",
       "</tbody>\n",
       "</table>\n"
      ],
      "text/latex": [
       "A data.frame: 6 × 19\n",
       "\\begin{tabular}{r|lllllllllllllllllll}\n",
       "  & year & month & day & dep\\_time & sched\\_dep\\_time & dep\\_delay & arr\\_time & sched\\_arr\\_time & arr\\_delay & carrier & flight & tailnum & origin & dest & air\\_time & distance & hour & minute & time\\_hour\\\\\n",
       "  & <int> & <int> & <int> & <int> & <int> & <dbl> & <int> & <int> & <dbl> & <chr> & <int> & <chr> & <chr> & <chr> & <dbl> & <dbl> & <dbl> & <dbl> & <dttm>\\\\\n",
       "\\hline\n",
       "\t1 & 2013 & 1 & 1 & 517 & 515 &  2 & 830 & 819 &  11 & UA & 1545 & N14228 & EWR & IAH & 227 & 1400 & 5 & 15 & 2013-01-01 05:00:00\\\\\n",
       "\t2 & 2013 & 1 & 1 & 533 & 529 &  4 & 850 & 830 &  20 & UA & 1714 & N24211 & LGA & IAH & 227 & 1416 & 5 & 29 & 2013-01-01 05:00:00\\\\\n",
       "\t3 & 2013 & 1 & 1 & 542 & 540 &  2 & 923 & 850 &  33 & AA & 1141 & N619AA & JFK & MIA & 160 & 1089 & 5 & 40 & 2013-01-01 05:00:00\\\\\n",
       "\t4 & 2013 & 1 & 1 & 554 & 600 & -6 & 812 & 837 & -25 & DL &  461 & N668DN & LGA & ATL & 116 &  762 & 6 &  0 & 2013-01-01 06:00:00\\\\\n",
       "\t5 & 2013 & 1 & 1 & 554 & 558 & -4 & 740 & 728 &  12 & UA & 1696 & N39463 & EWR & ORD & 150 &  719 & 5 & 58 & 2013-01-01 05:00:00\\\\\n",
       "\t6 & 2013 & 1 & 1 & 558 & 600 & -2 & 753 & 745 &   8 & AA &  301 & N3ALAA & LGA & ORD & 138 &  733 & 6 &  0 & 2013-01-01 06:00:00\\\\\n",
       "\\end{tabular}\n"
      ],
      "text/markdown": [
       "\n",
       "A data.frame: 6 × 19\n",
       "\n",
       "| <!--/--> | year &lt;int&gt; | month &lt;int&gt; | day &lt;int&gt; | dep_time &lt;int&gt; | sched_dep_time &lt;int&gt; | dep_delay &lt;dbl&gt; | arr_time &lt;int&gt; | sched_arr_time &lt;int&gt; | arr_delay &lt;dbl&gt; | carrier &lt;chr&gt; | flight &lt;int&gt; | tailnum &lt;chr&gt; | origin &lt;chr&gt; | dest &lt;chr&gt; | air_time &lt;dbl&gt; | distance &lt;dbl&gt; | hour &lt;dbl&gt; | minute &lt;dbl&gt; | time_hour &lt;dttm&gt; |\n",
       "|---|---|---|---|---|---|---|---|---|---|---|---|---|---|---|---|---|---|---|---|\n",
       "| 1 | 2013 | 1 | 1 | 517 | 515 |  2 | 830 | 819 |  11 | UA | 1545 | N14228 | EWR | IAH | 227 | 1400 | 5 | 15 | 2013-01-01 05:00:00 |\n",
       "| 2 | 2013 | 1 | 1 | 533 | 529 |  4 | 850 | 830 |  20 | UA | 1714 | N24211 | LGA | IAH | 227 | 1416 | 5 | 29 | 2013-01-01 05:00:00 |\n",
       "| 3 | 2013 | 1 | 1 | 542 | 540 |  2 | 923 | 850 |  33 | AA | 1141 | N619AA | JFK | MIA | 160 | 1089 | 5 | 40 | 2013-01-01 05:00:00 |\n",
       "| 4 | 2013 | 1 | 1 | 554 | 600 | -6 | 812 | 837 | -25 | DL |  461 | N668DN | LGA | ATL | 116 |  762 | 6 |  0 | 2013-01-01 06:00:00 |\n",
       "| 5 | 2013 | 1 | 1 | 554 | 558 | -4 | 740 | 728 |  12 | UA | 1696 | N39463 | EWR | ORD | 150 |  719 | 5 | 58 | 2013-01-01 05:00:00 |\n",
       "| 6 | 2013 | 1 | 1 | 558 | 600 | -2 | 753 | 745 |   8 | AA |  301 | N3ALAA | LGA | ORD | 138 |  733 | 6 |  0 | 2013-01-01 06:00:00 |\n",
       "\n"
      ],
      "text/plain": [
       "  year month day dep_time sched_dep_time dep_delay arr_time sched_arr_time\n",
       "1 2013 1     1   517      515             2        830      819           \n",
       "2 2013 1     1   533      529             4        850      830           \n",
       "3 2013 1     1   542      540             2        923      850           \n",
       "4 2013 1     1   554      600            -6        812      837           \n",
       "5 2013 1     1   554      558            -4        740      728           \n",
       "6 2013 1     1   558      600            -2        753      745           \n",
       "  arr_delay carrier flight tailnum origin dest air_time distance hour minute\n",
       "1  11       UA      1545   N14228  EWR    IAH  227      1400     5    15    \n",
       "2  20       UA      1714   N24211  LGA    IAH  227      1416     5    29    \n",
       "3  33       AA      1141   N619AA  JFK    MIA  160      1089     5    40    \n",
       "4 -25       DL       461   N668DN  LGA    ATL  116       762     6     0    \n",
       "5  12       UA      1696   N39463  EWR    ORD  150       719     5    58    \n",
       "6   8       AA       301   N3ALAA  LGA    ORD  138       733     6     0    \n",
       "  time_hour          \n",
       "1 2013-01-01 05:00:00\n",
       "2 2013-01-01 05:00:00\n",
       "3 2013-01-01 05:00:00\n",
       "4 2013-01-01 06:00:00\n",
       "5 2013-01-01 05:00:00\n",
       "6 2013-01-01 06:00:00"
      ]
     },
     "metadata": {},
     "output_type": "display_data"
    }
   ],
   "source": [
    "# C. Were operated by United, American, or Delta\n",
    "head(unique(df[c(\"carrier\")])) #UA is United, AA is American, DL is Delta\n",
    "\n",
    "# Report flights operated by said carriers\n",
    "head(filter(df, carrier == 'UA' | carrier == 'AA' | carrier == 'DL'))"
   ]
  },
  {
   "cell_type": "code",
   "execution_count": 29,
   "metadata": {},
   "outputs": [
    {
     "data": {
      "text/html": [
       "<table class=\"dataframe\">\n",
       "<caption>A data.frame: 6 × 19</caption>\n",
       "<thead>\n",
       "\t<tr><th></th><th scope=col>year</th><th scope=col>month</th><th scope=col>day</th><th scope=col>dep_time</th><th scope=col>sched_dep_time</th><th scope=col>dep_delay</th><th scope=col>arr_time</th><th scope=col>sched_arr_time</th><th scope=col>arr_delay</th><th scope=col>carrier</th><th scope=col>flight</th><th scope=col>tailnum</th><th scope=col>origin</th><th scope=col>dest</th><th scope=col>air_time</th><th scope=col>distance</th><th scope=col>hour</th><th scope=col>minute</th><th scope=col>time_hour</th></tr>\n",
       "\t<tr><th></th><th scope=col>&lt;int&gt;</th><th scope=col>&lt;int&gt;</th><th scope=col>&lt;int&gt;</th><th scope=col>&lt;int&gt;</th><th scope=col>&lt;int&gt;</th><th scope=col>&lt;dbl&gt;</th><th scope=col>&lt;int&gt;</th><th scope=col>&lt;int&gt;</th><th scope=col>&lt;dbl&gt;</th><th scope=col>&lt;chr&gt;</th><th scope=col>&lt;int&gt;</th><th scope=col>&lt;chr&gt;</th><th scope=col>&lt;chr&gt;</th><th scope=col>&lt;chr&gt;</th><th scope=col>&lt;dbl&gt;</th><th scope=col>&lt;dbl&gt;</th><th scope=col>&lt;dbl&gt;</th><th scope=col>&lt;dbl&gt;</th><th scope=col>&lt;dttm&gt;</th></tr>\n",
       "</thead>\n",
       "<tbody>\n",
       "\t<tr><th scope=row>1</th><td>2013</td><td>7</td><td>1</td><td> 1</td><td>2029</td><td>212</td><td>236</td><td>2359</td><td>157</td><td>B6</td><td> 915</td><td>N653JB</td><td>JFK</td><td>SFO</td><td>315</td><td>2586</td><td>20</td><td>29</td><td>2013-07-01 20:00:00</td></tr>\n",
       "\t<tr><th scope=row>2</th><td>2013</td><td>7</td><td>1</td><td> 2</td><td>2359</td><td>  3</td><td>344</td><td> 344</td><td>  0</td><td>B6</td><td>1503</td><td>N805JB</td><td>JFK</td><td>SJU</td><td>200</td><td>1598</td><td>23</td><td>59</td><td>2013-07-01 23:00:00</td></tr>\n",
       "\t<tr><th scope=row>3</th><td>2013</td><td>7</td><td>1</td><td>29</td><td>2245</td><td>104</td><td>151</td><td>   1</td><td>110</td><td>B6</td><td> 234</td><td>N348JB</td><td>JFK</td><td>BTV</td><td> 66</td><td> 266</td><td>22</td><td>45</td><td>2013-07-01 22:00:00</td></tr>\n",
       "\t<tr><th scope=row>4</th><td>2013</td><td>7</td><td>1</td><td>43</td><td>2130</td><td>193</td><td>322</td><td>  14</td><td>188</td><td>B6</td><td>1371</td><td>N794JB</td><td>LGA</td><td>FLL</td><td>143</td><td>1076</td><td>21</td><td>30</td><td>2013-07-01 21:00:00</td></tr>\n",
       "\t<tr><th scope=row>5</th><td>2013</td><td>7</td><td>1</td><td>44</td><td>2150</td><td>174</td><td>300</td><td> 100</td><td>120</td><td>AA</td><td> 185</td><td>N324AA</td><td>JFK</td><td>LAX</td><td>297</td><td>2475</td><td>21</td><td>50</td><td>2013-07-01 21:00:00</td></tr>\n",
       "\t<tr><th scope=row>6</th><td>2013</td><td>7</td><td>1</td><td>46</td><td>2051</td><td>235</td><td>304</td><td>2358</td><td>186</td><td>B6</td><td> 165</td><td>N640JB</td><td>JFK</td><td>PDX</td><td>304</td><td>2454</td><td>20</td><td>51</td><td>2013-07-01 20:00:00</td></tr>\n",
       "</tbody>\n",
       "</table>\n"
      ],
      "text/latex": [
       "A data.frame: 6 × 19\n",
       "\\begin{tabular}{r|lllllllllllllllllll}\n",
       "  & year & month & day & dep\\_time & sched\\_dep\\_time & dep\\_delay & arr\\_time & sched\\_arr\\_time & arr\\_delay & carrier & flight & tailnum & origin & dest & air\\_time & distance & hour & minute & time\\_hour\\\\\n",
       "  & <int> & <int> & <int> & <int> & <int> & <dbl> & <int> & <int> & <dbl> & <chr> & <int> & <chr> & <chr> & <chr> & <dbl> & <dbl> & <dbl> & <dbl> & <dttm>\\\\\n",
       "\\hline\n",
       "\t1 & 2013 & 7 & 1 &  1 & 2029 & 212 & 236 & 2359 & 157 & B6 &  915 & N653JB & JFK & SFO & 315 & 2586 & 20 & 29 & 2013-07-01 20:00:00\\\\\n",
       "\t2 & 2013 & 7 & 1 &  2 & 2359 &   3 & 344 &  344 &   0 & B6 & 1503 & N805JB & JFK & SJU & 200 & 1598 & 23 & 59 & 2013-07-01 23:00:00\\\\\n",
       "\t3 & 2013 & 7 & 1 & 29 & 2245 & 104 & 151 &    1 & 110 & B6 &  234 & N348JB & JFK & BTV &  66 &  266 & 22 & 45 & 2013-07-01 22:00:00\\\\\n",
       "\t4 & 2013 & 7 & 1 & 43 & 2130 & 193 & 322 &   14 & 188 & B6 & 1371 & N794JB & LGA & FLL & 143 & 1076 & 21 & 30 & 2013-07-01 21:00:00\\\\\n",
       "\t5 & 2013 & 7 & 1 & 44 & 2150 & 174 & 300 &  100 & 120 & AA &  185 & N324AA & JFK & LAX & 297 & 2475 & 21 & 50 & 2013-07-01 21:00:00\\\\\n",
       "\t6 & 2013 & 7 & 1 & 46 & 2051 & 235 & 304 & 2358 & 186 & B6 &  165 & N640JB & JFK & PDX & 304 & 2454 & 20 & 51 & 2013-07-01 20:00:00\\\\\n",
       "\\end{tabular}\n"
      ],
      "text/markdown": [
       "\n",
       "A data.frame: 6 × 19\n",
       "\n",
       "| <!--/--> | year &lt;int&gt; | month &lt;int&gt; | day &lt;int&gt; | dep_time &lt;int&gt; | sched_dep_time &lt;int&gt; | dep_delay &lt;dbl&gt; | arr_time &lt;int&gt; | sched_arr_time &lt;int&gt; | arr_delay &lt;dbl&gt; | carrier &lt;chr&gt; | flight &lt;int&gt; | tailnum &lt;chr&gt; | origin &lt;chr&gt; | dest &lt;chr&gt; | air_time &lt;dbl&gt; | distance &lt;dbl&gt; | hour &lt;dbl&gt; | minute &lt;dbl&gt; | time_hour &lt;dttm&gt; |\n",
       "|---|---|---|---|---|---|---|---|---|---|---|---|---|---|---|---|---|---|---|---|\n",
       "| 1 | 2013 | 7 | 1 |  1 | 2029 | 212 | 236 | 2359 | 157 | B6 |  915 | N653JB | JFK | SFO | 315 | 2586 | 20 | 29 | 2013-07-01 20:00:00 |\n",
       "| 2 | 2013 | 7 | 1 |  2 | 2359 |   3 | 344 |  344 |   0 | B6 | 1503 | N805JB | JFK | SJU | 200 | 1598 | 23 | 59 | 2013-07-01 23:00:00 |\n",
       "| 3 | 2013 | 7 | 1 | 29 | 2245 | 104 | 151 |    1 | 110 | B6 |  234 | N348JB | JFK | BTV |  66 |  266 | 22 | 45 | 2013-07-01 22:00:00 |\n",
       "| 4 | 2013 | 7 | 1 | 43 | 2130 | 193 | 322 |   14 | 188 | B6 | 1371 | N794JB | LGA | FLL | 143 | 1076 | 21 | 30 | 2013-07-01 21:00:00 |\n",
       "| 5 | 2013 | 7 | 1 | 44 | 2150 | 174 | 300 |  100 | 120 | AA |  185 | N324AA | JFK | LAX | 297 | 2475 | 21 | 50 | 2013-07-01 21:00:00 |\n",
       "| 6 | 2013 | 7 | 1 | 46 | 2051 | 235 | 304 | 2358 | 186 | B6 |  165 | N640JB | JFK | PDX | 304 | 2454 | 20 | 51 | 2013-07-01 20:00:00 |\n",
       "\n"
      ],
      "text/plain": [
       "  year month day dep_time sched_dep_time dep_delay arr_time sched_arr_time\n",
       "1 2013 7     1    1       2029           212       236      2359          \n",
       "2 2013 7     1    2       2359             3       344       344          \n",
       "3 2013 7     1   29       2245           104       151         1          \n",
       "4 2013 7     1   43       2130           193       322        14          \n",
       "5 2013 7     1   44       2150           174       300       100          \n",
       "6 2013 7     1   46       2051           235       304      2358          \n",
       "  arr_delay carrier flight tailnum origin dest air_time distance hour minute\n",
       "1 157       B6       915   N653JB  JFK    SFO  315      2586     20   29    \n",
       "2   0       B6      1503   N805JB  JFK    SJU  200      1598     23   59    \n",
       "3 110       B6       234   N348JB  JFK    BTV   66       266     22   45    \n",
       "4 188       B6      1371   N794JB  LGA    FLL  143      1076     21   30    \n",
       "5 120       AA       185   N324AA  JFK    LAX  297      2475     21   50    \n",
       "6 186       B6       165   N640JB  JFK    PDX  304      2454     20   51    \n",
       "  time_hour          \n",
       "1 2013-07-01 20:00:00\n",
       "2 2013-07-01 23:00:00\n",
       "3 2013-07-01 22:00:00\n",
       "4 2013-07-01 21:00:00\n",
       "5 2013-07-01 21:00:00\n",
       "6 2013-07-01 20:00:00"
      ]
     },
     "metadata": {},
     "output_type": "display_data"
    }
   ],
   "source": [
    "# D. Departed in summer (July, August, and September)\n",
    "head(filter(df, month == 7 | month == 8 | month == 9))"
   ]
  },
  {
   "cell_type": "code",
   "execution_count": 30,
   "metadata": {},
   "outputs": [
    {
     "data": {
      "text/html": [
       "<table class=\"dataframe\">\n",
       "<caption>A data.frame: 6 × 19</caption>\n",
       "<thead>\n",
       "\t<tr><th></th><th scope=col>year</th><th scope=col>month</th><th scope=col>day</th><th scope=col>dep_time</th><th scope=col>sched_dep_time</th><th scope=col>dep_delay</th><th scope=col>arr_time</th><th scope=col>sched_arr_time</th><th scope=col>arr_delay</th><th scope=col>carrier</th><th scope=col>flight</th><th scope=col>tailnum</th><th scope=col>origin</th><th scope=col>dest</th><th scope=col>air_time</th><th scope=col>distance</th><th scope=col>hour</th><th scope=col>minute</th><th scope=col>time_hour</th></tr>\n",
       "\t<tr><th></th><th scope=col>&lt;int&gt;</th><th scope=col>&lt;int&gt;</th><th scope=col>&lt;int&gt;</th><th scope=col>&lt;int&gt;</th><th scope=col>&lt;int&gt;</th><th scope=col>&lt;dbl&gt;</th><th scope=col>&lt;int&gt;</th><th scope=col>&lt;int&gt;</th><th scope=col>&lt;dbl&gt;</th><th scope=col>&lt;chr&gt;</th><th scope=col>&lt;int&gt;</th><th scope=col>&lt;chr&gt;</th><th scope=col>&lt;chr&gt;</th><th scope=col>&lt;chr&gt;</th><th scope=col>&lt;dbl&gt;</th><th scope=col>&lt;dbl&gt;</th><th scope=col>&lt;dbl&gt;</th><th scope=col>&lt;dbl&gt;</th><th scope=col>&lt;dttm&gt;</th></tr>\n",
       "</thead>\n",
       "<tbody>\n",
       "\t<tr><th scope=row>1</th><td>2013</td><td> 1</td><td>27</td><td>1419</td><td>1420</td><td>-1</td><td>1754</td><td>1550</td><td>124</td><td>MQ</td><td>3728</td><td>N1EAMQ</td><td>EWR</td><td>ORD</td><td>135</td><td> 719</td><td>14</td><td>20</td><td>2013-01-27 14:00:00</td></tr>\n",
       "\t<tr><th scope=row>2</th><td>2013</td><td>10</td><td> 7</td><td>1350</td><td>1350</td><td> 0</td><td>1736</td><td>1526</td><td>130</td><td>EV</td><td>5181</td><td>N611QX</td><td>LGA</td><td>MSN</td><td>117</td><td> 812</td><td>13</td><td>50</td><td>2013-10-07 13:00:00</td></tr>\n",
       "\t<tr><th scope=row>3</th><td>2013</td><td>10</td><td> 7</td><td>1357</td><td>1359</td><td>-2</td><td>1858</td><td>1654</td><td>124</td><td>AA</td><td>1151</td><td>N3CMAA</td><td>LGA</td><td>DFW</td><td>192</td><td>1389</td><td>13</td><td>59</td><td>2013-10-07 13:00:00</td></tr>\n",
       "\t<tr><th scope=row>4</th><td>2013</td><td>10</td><td>16</td><td> 657</td><td> 700</td><td>-3</td><td>1258</td><td>1056</td><td>122</td><td>B6</td><td>   3</td><td>N703JB</td><td>JFK</td><td>SJU</td><td>225</td><td>1598</td><td> 7</td><td> 0</td><td>2013-10-16 07:00:00</td></tr>\n",
       "\t<tr><th scope=row>5</th><td>2013</td><td>11</td><td> 1</td><td> 658</td><td> 700</td><td>-2</td><td>1329</td><td>1015</td><td>194</td><td>VX</td><td> 399</td><td>N629VA</td><td>JFK</td><td>LAX</td><td>336</td><td>2475</td><td> 7</td><td> 0</td><td>2013-11-01 07:00:00</td></tr>\n",
       "\t<tr><th scope=row>6</th><td>2013</td><td> 3</td><td>18</td><td>1844</td><td>1847</td><td>-3</td><td>  39</td><td>2219</td><td>140</td><td>UA</td><td> 389</td><td>N560UA</td><td>JFK</td><td>SFO</td><td>386</td><td>2586</td><td>18</td><td>47</td><td>2013-03-18 18:00:00</td></tr>\n",
       "</tbody>\n",
       "</table>\n"
      ],
      "text/latex": [
       "A data.frame: 6 × 19\n",
       "\\begin{tabular}{r|lllllllllllllllllll}\n",
       "  & year & month & day & dep\\_time & sched\\_dep\\_time & dep\\_delay & arr\\_time & sched\\_arr\\_time & arr\\_delay & carrier & flight & tailnum & origin & dest & air\\_time & distance & hour & minute & time\\_hour\\\\\n",
       "  & <int> & <int> & <int> & <int> & <int> & <dbl> & <int> & <int> & <dbl> & <chr> & <int> & <chr> & <chr> & <chr> & <dbl> & <dbl> & <dbl> & <dbl> & <dttm>\\\\\n",
       "\\hline\n",
       "\t1 & 2013 &  1 & 27 & 1419 & 1420 & -1 & 1754 & 1550 & 124 & MQ & 3728 & N1EAMQ & EWR & ORD & 135 &  719 & 14 & 20 & 2013-01-27 14:00:00\\\\\n",
       "\t2 & 2013 & 10 &  7 & 1350 & 1350 &  0 & 1736 & 1526 & 130 & EV & 5181 & N611QX & LGA & MSN & 117 &  812 & 13 & 50 & 2013-10-07 13:00:00\\\\\n",
       "\t3 & 2013 & 10 &  7 & 1357 & 1359 & -2 & 1858 & 1654 & 124 & AA & 1151 & N3CMAA & LGA & DFW & 192 & 1389 & 13 & 59 & 2013-10-07 13:00:00\\\\\n",
       "\t4 & 2013 & 10 & 16 &  657 &  700 & -3 & 1258 & 1056 & 122 & B6 &    3 & N703JB & JFK & SJU & 225 & 1598 &  7 &  0 & 2013-10-16 07:00:00\\\\\n",
       "\t5 & 2013 & 11 &  1 &  658 &  700 & -2 & 1329 & 1015 & 194 & VX &  399 & N629VA & JFK & LAX & 336 & 2475 &  7 &  0 & 2013-11-01 07:00:00\\\\\n",
       "\t6 & 2013 &  3 & 18 & 1844 & 1847 & -3 &   39 & 2219 & 140 & UA &  389 & N560UA & JFK & SFO & 386 & 2586 & 18 & 47 & 2013-03-18 18:00:00\\\\\n",
       "\\end{tabular}\n"
      ],
      "text/markdown": [
       "\n",
       "A data.frame: 6 × 19\n",
       "\n",
       "| <!--/--> | year &lt;int&gt; | month &lt;int&gt; | day &lt;int&gt; | dep_time &lt;int&gt; | sched_dep_time &lt;int&gt; | dep_delay &lt;dbl&gt; | arr_time &lt;int&gt; | sched_arr_time &lt;int&gt; | arr_delay &lt;dbl&gt; | carrier &lt;chr&gt; | flight &lt;int&gt; | tailnum &lt;chr&gt; | origin &lt;chr&gt; | dest &lt;chr&gt; | air_time &lt;dbl&gt; | distance &lt;dbl&gt; | hour &lt;dbl&gt; | minute &lt;dbl&gt; | time_hour &lt;dttm&gt; |\n",
       "|---|---|---|---|---|---|---|---|---|---|---|---|---|---|---|---|---|---|---|---|\n",
       "| 1 | 2013 |  1 | 27 | 1419 | 1420 | -1 | 1754 | 1550 | 124 | MQ | 3728 | N1EAMQ | EWR | ORD | 135 |  719 | 14 | 20 | 2013-01-27 14:00:00 |\n",
       "| 2 | 2013 | 10 |  7 | 1350 | 1350 |  0 | 1736 | 1526 | 130 | EV | 5181 | N611QX | LGA | MSN | 117 |  812 | 13 | 50 | 2013-10-07 13:00:00 |\n",
       "| 3 | 2013 | 10 |  7 | 1357 | 1359 | -2 | 1858 | 1654 | 124 | AA | 1151 | N3CMAA | LGA | DFW | 192 | 1389 | 13 | 59 | 2013-10-07 13:00:00 |\n",
       "| 4 | 2013 | 10 | 16 |  657 |  700 | -3 | 1258 | 1056 | 122 | B6 |    3 | N703JB | JFK | SJU | 225 | 1598 |  7 |  0 | 2013-10-16 07:00:00 |\n",
       "| 5 | 2013 | 11 |  1 |  658 |  700 | -2 | 1329 | 1015 | 194 | VX |  399 | N629VA | JFK | LAX | 336 | 2475 |  7 |  0 | 2013-11-01 07:00:00 |\n",
       "| 6 | 2013 |  3 | 18 | 1844 | 1847 | -3 |   39 | 2219 | 140 | UA |  389 | N560UA | JFK | SFO | 386 | 2586 | 18 | 47 | 2013-03-18 18:00:00 |\n",
       "\n"
      ],
      "text/plain": [
       "  year month day dep_time sched_dep_time dep_delay arr_time sched_arr_time\n",
       "1 2013  1    27  1419     1420           -1        1754     1550          \n",
       "2 2013 10     7  1350     1350            0        1736     1526          \n",
       "3 2013 10     7  1357     1359           -2        1858     1654          \n",
       "4 2013 10    16   657      700           -3        1258     1056          \n",
       "5 2013 11     1   658      700           -2        1329     1015          \n",
       "6 2013  3    18  1844     1847           -3          39     2219          \n",
       "  arr_delay carrier flight tailnum origin dest air_time distance hour minute\n",
       "1 124       MQ      3728   N1EAMQ  EWR    ORD  135       719     14   20    \n",
       "2 130       EV      5181   N611QX  LGA    MSN  117       812     13   50    \n",
       "3 124       AA      1151   N3CMAA  LGA    DFW  192      1389     13   59    \n",
       "4 122       B6         3   N703JB  JFK    SJU  225      1598      7    0    \n",
       "5 194       VX       399   N629VA  JFK    LAX  336      2475      7    0    \n",
       "6 140       UA       389   N560UA  JFK    SFO  386      2586     18   47    \n",
       "  time_hour          \n",
       "1 2013-01-27 14:00:00\n",
       "2 2013-10-07 13:00:00\n",
       "3 2013-10-07 13:00:00\n",
       "4 2013-10-16 07:00:00\n",
       "5 2013-11-01 07:00:00\n",
       "6 2013-03-18 18:00:00"
      ]
     },
     "metadata": {},
     "output_type": "display_data"
    }
   ],
   "source": [
    "# E. Arrived more than two hours late, but didn’t leave late\n",
    "head(filter(df, arr_delay >= 120 & dep_delay <= 0))"
   ]
  },
  {
   "cell_type": "code",
   "execution_count": 33,
   "metadata": {},
   "outputs": [
    {
     "data": {
      "text/html": [
       "<table class=\"dataframe\">\n",
       "<caption>A data.frame: 6 × 19</caption>\n",
       "<thead>\n",
       "\t<tr><th></th><th scope=col>year</th><th scope=col>month</th><th scope=col>day</th><th scope=col>dep_time</th><th scope=col>sched_dep_time</th><th scope=col>dep_delay</th><th scope=col>arr_time</th><th scope=col>sched_arr_time</th><th scope=col>arr_delay</th><th scope=col>carrier</th><th scope=col>flight</th><th scope=col>tailnum</th><th scope=col>origin</th><th scope=col>dest</th><th scope=col>air_time</th><th scope=col>distance</th><th scope=col>hour</th><th scope=col>minute</th><th scope=col>time_hour</th></tr>\n",
       "\t<tr><th></th><th scope=col>&lt;int&gt;</th><th scope=col>&lt;int&gt;</th><th scope=col>&lt;int&gt;</th><th scope=col>&lt;int&gt;</th><th scope=col>&lt;int&gt;</th><th scope=col>&lt;dbl&gt;</th><th scope=col>&lt;int&gt;</th><th scope=col>&lt;int&gt;</th><th scope=col>&lt;dbl&gt;</th><th scope=col>&lt;chr&gt;</th><th scope=col>&lt;int&gt;</th><th scope=col>&lt;chr&gt;</th><th scope=col>&lt;chr&gt;</th><th scope=col>&lt;chr&gt;</th><th scope=col>&lt;dbl&gt;</th><th scope=col>&lt;dbl&gt;</th><th scope=col>&lt;dbl&gt;</th><th scope=col>&lt;dbl&gt;</th><th scope=col>&lt;dttm&gt;</th></tr>\n",
       "</thead>\n",
       "<tbody>\n",
       "\t<tr><th scope=row>1</th><td>2013</td><td>1</td><td>1</td><td>2205</td><td>1720</td><td>285</td><td>  46</td><td>2040</td><td>246</td><td>AA</td><td>1999</td><td>N5DNAA</td><td>EWR</td><td>MIA</td><td>146</td><td>1085</td><td>17</td><td>20</td><td>2013-01-01 17:00:00</td></tr>\n",
       "\t<tr><th scope=row>2</th><td>2013</td><td>1</td><td>1</td><td>2326</td><td>2130</td><td>116</td><td> 131</td><td>  18</td><td> 73</td><td>B6</td><td> 199</td><td>N594JB</td><td>JFK</td><td>LAS</td><td>290</td><td>2248</td><td>21</td><td>30</td><td>2013-01-01 21:00:00</td></tr>\n",
       "\t<tr><th scope=row>3</th><td>2013</td><td>1</td><td>3</td><td>1503</td><td>1221</td><td>162</td><td>1803</td><td>1555</td><td>128</td><td>UA</td><td> 551</td><td>N835UA</td><td>EWR</td><td>SFO</td><td>320</td><td>2565</td><td>12</td><td>21</td><td>2013-01-03 12:00:00</td></tr>\n",
       "\t<tr><th scope=row>4</th><td>2013</td><td>1</td><td>3</td><td>1839</td><td>1700</td><td> 99</td><td>2056</td><td>1950</td><td> 66</td><td>AA</td><td> 575</td><td>N631AA</td><td>JFK</td><td>EGE</td><td>239</td><td>1747</td><td>17</td><td> 0</td><td>2013-01-03 17:00:00</td></tr>\n",
       "\t<tr><th scope=row>5</th><td>2013</td><td>1</td><td>3</td><td>1850</td><td>1745</td><td> 65</td><td>2148</td><td>2120</td><td> 28</td><td>AA</td><td> 177</td><td>N332AA</td><td>JFK</td><td>SFO</td><td>314</td><td>2586</td><td>17</td><td>45</td><td>2013-01-03 17:00:00</td></tr>\n",
       "\t<tr><th scope=row>6</th><td>2013</td><td>1</td><td>3</td><td>1941</td><td>1759</td><td>102</td><td>2246</td><td>2139</td><td> 67</td><td>UA</td><td> 979</td><td>N402UA</td><td>EWR</td><td>PHX</td><td>274</td><td>2133</td><td>17</td><td>59</td><td>2013-01-03 17:00:00</td></tr>\n",
       "</tbody>\n",
       "</table>\n"
      ],
      "text/latex": [
       "A data.frame: 6 × 19\n",
       "\\begin{tabular}{r|lllllllllllllllllll}\n",
       "  & year & month & day & dep\\_time & sched\\_dep\\_time & dep\\_delay & arr\\_time & sched\\_arr\\_time & arr\\_delay & carrier & flight & tailnum & origin & dest & air\\_time & distance & hour & minute & time\\_hour\\\\\n",
       "  & <int> & <int> & <int> & <int> & <int> & <dbl> & <int> & <int> & <dbl> & <chr> & <int> & <chr> & <chr> & <chr> & <dbl> & <dbl> & <dbl> & <dbl> & <dttm>\\\\\n",
       "\\hline\n",
       "\t1 & 2013 & 1 & 1 & 2205 & 1720 & 285 &   46 & 2040 & 246 & AA & 1999 & N5DNAA & EWR & MIA & 146 & 1085 & 17 & 20 & 2013-01-01 17:00:00\\\\\n",
       "\t2 & 2013 & 1 & 1 & 2326 & 2130 & 116 &  131 &   18 &  73 & B6 &  199 & N594JB & JFK & LAS & 290 & 2248 & 21 & 30 & 2013-01-01 21:00:00\\\\\n",
       "\t3 & 2013 & 1 & 3 & 1503 & 1221 & 162 & 1803 & 1555 & 128 & UA &  551 & N835UA & EWR & SFO & 320 & 2565 & 12 & 21 & 2013-01-03 12:00:00\\\\\n",
       "\t4 & 2013 & 1 & 3 & 1839 & 1700 &  99 & 2056 & 1950 &  66 & AA &  575 & N631AA & JFK & EGE & 239 & 1747 & 17 &  0 & 2013-01-03 17:00:00\\\\\n",
       "\t5 & 2013 & 1 & 3 & 1850 & 1745 &  65 & 2148 & 2120 &  28 & AA &  177 & N332AA & JFK & SFO & 314 & 2586 & 17 & 45 & 2013-01-03 17:00:00\\\\\n",
       "\t6 & 2013 & 1 & 3 & 1941 & 1759 & 102 & 2246 & 2139 &  67 & UA &  979 & N402UA & EWR & PHX & 274 & 2133 & 17 & 59 & 2013-01-03 17:00:00\\\\\n",
       "\\end{tabular}\n"
      ],
      "text/markdown": [
       "\n",
       "A data.frame: 6 × 19\n",
       "\n",
       "| <!--/--> | year &lt;int&gt; | month &lt;int&gt; | day &lt;int&gt; | dep_time &lt;int&gt; | sched_dep_time &lt;int&gt; | dep_delay &lt;dbl&gt; | arr_time &lt;int&gt; | sched_arr_time &lt;int&gt; | arr_delay &lt;dbl&gt; | carrier &lt;chr&gt; | flight &lt;int&gt; | tailnum &lt;chr&gt; | origin &lt;chr&gt; | dest &lt;chr&gt; | air_time &lt;dbl&gt; | distance &lt;dbl&gt; | hour &lt;dbl&gt; | minute &lt;dbl&gt; | time_hour &lt;dttm&gt; |\n",
       "|---|---|---|---|---|---|---|---|---|---|---|---|---|---|---|---|---|---|---|---|\n",
       "| 1 | 2013 | 1 | 1 | 2205 | 1720 | 285 |   46 | 2040 | 246 | AA | 1999 | N5DNAA | EWR | MIA | 146 | 1085 | 17 | 20 | 2013-01-01 17:00:00 |\n",
       "| 2 | 2013 | 1 | 1 | 2326 | 2130 | 116 |  131 |   18 |  73 | B6 |  199 | N594JB | JFK | LAS | 290 | 2248 | 21 | 30 | 2013-01-01 21:00:00 |\n",
       "| 3 | 2013 | 1 | 3 | 1503 | 1221 | 162 | 1803 | 1555 | 128 | UA |  551 | N835UA | EWR | SFO | 320 | 2565 | 12 | 21 | 2013-01-03 12:00:00 |\n",
       "| 4 | 2013 | 1 | 3 | 1839 | 1700 |  99 | 2056 | 1950 |  66 | AA |  575 | N631AA | JFK | EGE | 239 | 1747 | 17 |  0 | 2013-01-03 17:00:00 |\n",
       "| 5 | 2013 | 1 | 3 | 1850 | 1745 |  65 | 2148 | 2120 |  28 | AA |  177 | N332AA | JFK | SFO | 314 | 2586 | 17 | 45 | 2013-01-03 17:00:00 |\n",
       "| 6 | 2013 | 1 | 3 | 1941 | 1759 | 102 | 2246 | 2139 |  67 | UA |  979 | N402UA | EWR | PHX | 274 | 2133 | 17 | 59 | 2013-01-03 17:00:00 |\n",
       "\n"
      ],
      "text/plain": [
       "  year month day dep_time sched_dep_time dep_delay arr_time sched_arr_time\n",
       "1 2013 1     1   2205     1720           285         46     2040          \n",
       "2 2013 1     1   2326     2130           116        131       18          \n",
       "3 2013 1     3   1503     1221           162       1803     1555          \n",
       "4 2013 1     3   1839     1700            99       2056     1950          \n",
       "5 2013 1     3   1850     1745            65       2148     2120          \n",
       "6 2013 1     3   1941     1759           102       2246     2139          \n",
       "  arr_delay carrier flight tailnum origin dest air_time distance hour minute\n",
       "1 246       AA      1999   N5DNAA  EWR    MIA  146      1085     17   20    \n",
       "2  73       B6       199   N594JB  JFK    LAS  290      2248     21   30    \n",
       "3 128       UA       551   N835UA  EWR    SFO  320      2565     12   21    \n",
       "4  66       AA       575   N631AA  JFK    EGE  239      1747     17    0    \n",
       "5  28       AA       177   N332AA  JFK    SFO  314      2586     17   45    \n",
       "6  67       UA       979   N402UA  EWR    PHX  274      2133     17   59    \n",
       "  time_hour          \n",
       "1 2013-01-01 17:00:00\n",
       "2 2013-01-01 21:00:00\n",
       "3 2013-01-03 12:00:00\n",
       "4 2013-01-03 17:00:00\n",
       "5 2013-01-03 17:00:00\n",
       "6 2013-01-03 17:00:00"
      ]
     },
     "metadata": {},
     "output_type": "display_data"
    }
   ],
   "source": [
    "# F. Were delayed by at least an hour, but made up over 30 minutes in flight\n",
    "head(filter(df, dep_delay >= 60, dep_delay - arr_delay > 30))"
   ]
  },
  {
   "cell_type": "markdown",
   "metadata": {
    "slideshow": {
     "slide_type": "slide"
    }
   },
   "source": [
    "2. How many flights have a missing `dep_time`? What other variables are missing? What might these rows represent?"
   ]
  },
  {
   "cell_type": "code",
   "execution_count": 50,
   "metadata": {},
   "outputs": [
    {
     "data": {
      "text/html": [
       "8255"
      ],
      "text/latex": [
       "8255"
      ],
      "text/markdown": [
       "8255"
      ],
      "text/plain": [
       "[1] 8255"
      ]
     },
     "metadata": {},
     "output_type": "display_data"
    }
   ],
   "source": [
    "# Report no. of missing values for depature time. Output = 8,255\n",
    "sum(is.na(df$dep_time))"
   ]
  },
  {
   "cell_type": "code",
   "execution_count": 49,
   "metadata": {},
   "outputs": [
    {
     "data": {
      "text/html": [
       "<style>\n",
       ".dl-inline {width: auto; margin:0; padding: 0}\n",
       ".dl-inline>dt, .dl-inline>dd {float: none; width: auto; display: inline-block}\n",
       ".dl-inline>dt::after {content: \":\\0020\"; padding-right: .5ex}\n",
       ".dl-inline>dt:not(:first-of-type) {padding-left: .5ex}\n",
       "</style><dl class=dl-inline><dt>year</dt><dd>0</dd><dt>month</dt><dd>0</dd><dt>day</dt><dd>0</dd><dt>dep_time</dt><dd>8255</dd><dt>sched_dep_time</dt><dd>0</dd><dt>dep_delay</dt><dd>8255</dd><dt>arr_time</dt><dd>8713</dd><dt>sched_arr_time</dt><dd>0</dd><dt>arr_delay</dt><dd>9430</dd><dt>carrier</dt><dd>0</dd><dt>flight</dt><dd>0</dd><dt>tailnum</dt><dd>2512</dd><dt>origin</dt><dd>0</dd><dt>dest</dt><dd>0</dd><dt>air_time</dt><dd>9430</dd><dt>distance</dt><dd>0</dd><dt>hour</dt><dd>0</dd><dt>minute</dt><dd>0</dd><dt>time_hour</dt><dd>0</dd></dl>\n"
      ],
      "text/latex": [
       "\\begin{description*}\n",
       "\\item[year] 0\n",
       "\\item[month] 0\n",
       "\\item[day] 0\n",
       "\\item[dep\\textbackslash{}\\_time] 8255\n",
       "\\item[sched\\textbackslash{}\\_dep\\textbackslash{}\\_time] 0\n",
       "\\item[dep\\textbackslash{}\\_delay] 8255\n",
       "\\item[arr\\textbackslash{}\\_time] 8713\n",
       "\\item[sched\\textbackslash{}\\_arr\\textbackslash{}\\_time] 0\n",
       "\\item[arr\\textbackslash{}\\_delay] 9430\n",
       "\\item[carrier] 0\n",
       "\\item[flight] 0\n",
       "\\item[tailnum] 2512\n",
       "\\item[origin] 0\n",
       "\\item[dest] 0\n",
       "\\item[air\\textbackslash{}\\_time] 9430\n",
       "\\item[distance] 0\n",
       "\\item[hour] 0\n",
       "\\item[minute] 0\n",
       "\\item[time\\textbackslash{}\\_hour] 0\n",
       "\\end{description*}\n"
      ],
      "text/markdown": [
       "year\n",
       ":   0month\n",
       ":   0day\n",
       ":   0dep_time\n",
       ":   8255sched_dep_time\n",
       ":   0dep_delay\n",
       ":   8255arr_time\n",
       ":   8713sched_arr_time\n",
       ":   0arr_delay\n",
       ":   9430carrier\n",
       ":   0flight\n",
       ":   0tailnum\n",
       ":   2512origin\n",
       ":   0dest\n",
       ":   0air_time\n",
       ":   9430distance\n",
       ":   0hour\n",
       ":   0minute\n",
       ":   0time_hour\n",
       ":   0\n",
       "\n"
      ],
      "text/plain": [
       "          year          month            day       dep_time sched_dep_time \n",
       "             0              0              0           8255              0 \n",
       "     dep_delay       arr_time sched_arr_time      arr_delay        carrier \n",
       "          8255           8713              0           9430              0 \n",
       "        flight        tailnum         origin           dest       air_time \n",
       "             0           2512              0              0           9430 \n",
       "      distance           hour         minute      time_hour \n",
       "             0              0              0              0 "
      ]
     },
     "metadata": {},
     "output_type": "display_data"
    }
   ],
   "source": [
    "# Report missing values for all variables:\n",
    "colSums(is.na(df) )\n",
    "\n",
    "#'dep_time', 'dep_delay', 'arr_time', 'arr_delay', 'tailnum', 'air_time' all have missing values. \n",
    "# This could point towards that the missing values are cancelled flights."
   ]
  },
  {
   "cell_type": "markdown",
   "metadata": {},
   "source": [
    "3. How could you use `arrange()` to sort all missing values to the start? (Hint: use is.na().)"
   ]
  },
  {
   "cell_type": "markdown",
   "metadata": {},
   "source": [
    "*Student: `arrange()` sorts rows of df according to selected columns. `desc()` makes sure it is in descending order. However, this only works as long as `is.na()` is passed as well as presented in cell below. The reason is that `is.na()` outputs either `TRUE` or `FALSE` and `R` orders `TRUE > FALSE`.*"
   ]
  },
  {
   "cell_type": "code",
   "execution_count": 48,
   "metadata": {},
   "outputs": [
    {
     "data": {
      "text/html": [
       "<table class=\"dataframe\">\n",
       "<caption>A tibble: 6 × 19</caption>\n",
       "<thead>\n",
       "\t<tr><th scope=col>year</th><th scope=col>month</th><th scope=col>day</th><th scope=col>dep_time</th><th scope=col>sched_dep_time</th><th scope=col>dep_delay</th><th scope=col>arr_time</th><th scope=col>sched_arr_time</th><th scope=col>arr_delay</th><th scope=col>carrier</th><th scope=col>flight</th><th scope=col>tailnum</th><th scope=col>origin</th><th scope=col>dest</th><th scope=col>air_time</th><th scope=col>distance</th><th scope=col>hour</th><th scope=col>minute</th><th scope=col>time_hour</th></tr>\n",
       "\t<tr><th scope=col>&lt;int&gt;</th><th scope=col>&lt;int&gt;</th><th scope=col>&lt;int&gt;</th><th scope=col>&lt;int&gt;</th><th scope=col>&lt;int&gt;</th><th scope=col>&lt;dbl&gt;</th><th scope=col>&lt;int&gt;</th><th scope=col>&lt;int&gt;</th><th scope=col>&lt;dbl&gt;</th><th scope=col>&lt;chr&gt;</th><th scope=col>&lt;int&gt;</th><th scope=col>&lt;chr&gt;</th><th scope=col>&lt;chr&gt;</th><th scope=col>&lt;chr&gt;</th><th scope=col>&lt;dbl&gt;</th><th scope=col>&lt;dbl&gt;</th><th scope=col>&lt;dbl&gt;</th><th scope=col>&lt;dbl&gt;</th><th scope=col>&lt;dttm&gt;</th></tr>\n",
       "</thead>\n",
       "<tbody>\n",
       "\t<tr><td>2013</td><td>1</td><td>2</td><td>NA</td><td>1545</td><td>NA</td><td>NA</td><td>1910</td><td>NA</td><td>AA</td><td> 133</td><td>NA</td><td>JFK</td><td>LAX</td><td>NA</td><td>2475</td><td>15</td><td>45</td><td>2013-01-02 15:00:00</td></tr>\n",
       "\t<tr><td>2013</td><td>1</td><td>2</td><td>NA</td><td>1601</td><td>NA</td><td>NA</td><td>1735</td><td>NA</td><td>UA</td><td> 623</td><td>NA</td><td>EWR</td><td>ORD</td><td>NA</td><td> 719</td><td>16</td><td> 1</td><td>2013-01-02 16:00:00</td></tr>\n",
       "\t<tr><td>2013</td><td>1</td><td>3</td><td>NA</td><td> 857</td><td>NA</td><td>NA</td><td>1209</td><td>NA</td><td>UA</td><td> 714</td><td>NA</td><td>EWR</td><td>MIA</td><td>NA</td><td>1085</td><td> 8</td><td>57</td><td>2013-01-03 08:00:00</td></tr>\n",
       "\t<tr><td>2013</td><td>1</td><td>3</td><td>NA</td><td> 645</td><td>NA</td><td>NA</td><td> 952</td><td>NA</td><td>UA</td><td> 719</td><td>NA</td><td>EWR</td><td>DFW</td><td>NA</td><td>1372</td><td> 6</td><td>45</td><td>2013-01-03 06:00:00</td></tr>\n",
       "\t<tr><td>2013</td><td>1</td><td>4</td><td>NA</td><td> 845</td><td>NA</td><td>NA</td><td>1015</td><td>NA</td><td>9E</td><td>3405</td><td>NA</td><td>JFK</td><td>DCA</td><td>NA</td><td> 213</td><td> 8</td><td>45</td><td>2013-01-04 08:00:00</td></tr>\n",
       "\t<tr><td>2013</td><td>1</td><td>4</td><td>NA</td><td>1830</td><td>NA</td><td>NA</td><td>2044</td><td>NA</td><td>9E</td><td>3716</td><td>NA</td><td>EWR</td><td>DTW</td><td>NA</td><td> 488</td><td>18</td><td>30</td><td>2013-01-04 18:00:00</td></tr>\n",
       "</tbody>\n",
       "</table>\n"
      ],
      "text/latex": [
       "A tibble: 6 × 19\n",
       "\\begin{tabular}{lllllllllllllllllll}\n",
       " year & month & day & dep\\_time & sched\\_dep\\_time & dep\\_delay & arr\\_time & sched\\_arr\\_time & arr\\_delay & carrier & flight & tailnum & origin & dest & air\\_time & distance & hour & minute & time\\_hour\\\\\n",
       " <int> & <int> & <int> & <int> & <int> & <dbl> & <int> & <int> & <dbl> & <chr> & <int> & <chr> & <chr> & <chr> & <dbl> & <dbl> & <dbl> & <dbl> & <dttm>\\\\\n",
       "\\hline\n",
       "\t 2013 & 1 & 2 & NA & 1545 & NA & NA & 1910 & NA & AA &  133 & NA & JFK & LAX & NA & 2475 & 15 & 45 & 2013-01-02 15:00:00\\\\\n",
       "\t 2013 & 1 & 2 & NA & 1601 & NA & NA & 1735 & NA & UA &  623 & NA & EWR & ORD & NA &  719 & 16 &  1 & 2013-01-02 16:00:00\\\\\n",
       "\t 2013 & 1 & 3 & NA &  857 & NA & NA & 1209 & NA & UA &  714 & NA & EWR & MIA & NA & 1085 &  8 & 57 & 2013-01-03 08:00:00\\\\\n",
       "\t 2013 & 1 & 3 & NA &  645 & NA & NA &  952 & NA & UA &  719 & NA & EWR & DFW & NA & 1372 &  6 & 45 & 2013-01-03 06:00:00\\\\\n",
       "\t 2013 & 1 & 4 & NA &  845 & NA & NA & 1015 & NA & 9E & 3405 & NA & JFK & DCA & NA &  213 &  8 & 45 & 2013-01-04 08:00:00\\\\\n",
       "\t 2013 & 1 & 4 & NA & 1830 & NA & NA & 2044 & NA & 9E & 3716 & NA & EWR & DTW & NA &  488 & 18 & 30 & 2013-01-04 18:00:00\\\\\n",
       "\\end{tabular}\n"
      ],
      "text/markdown": [
       "\n",
       "A tibble: 6 × 19\n",
       "\n",
       "| year &lt;int&gt; | month &lt;int&gt; | day &lt;int&gt; | dep_time &lt;int&gt; | sched_dep_time &lt;int&gt; | dep_delay &lt;dbl&gt; | arr_time &lt;int&gt; | sched_arr_time &lt;int&gt; | arr_delay &lt;dbl&gt; | carrier &lt;chr&gt; | flight &lt;int&gt; | tailnum &lt;chr&gt; | origin &lt;chr&gt; | dest &lt;chr&gt; | air_time &lt;dbl&gt; | distance &lt;dbl&gt; | hour &lt;dbl&gt; | minute &lt;dbl&gt; | time_hour &lt;dttm&gt; |\n",
       "|---|---|---|---|---|---|---|---|---|---|---|---|---|---|---|---|---|---|---|\n",
       "| 2013 | 1 | 2 | NA | 1545 | NA | NA | 1910 | NA | AA |  133 | NA | JFK | LAX | NA | 2475 | 15 | 45 | 2013-01-02 15:00:00 |\n",
       "| 2013 | 1 | 2 | NA | 1601 | NA | NA | 1735 | NA | UA |  623 | NA | EWR | ORD | NA |  719 | 16 |  1 | 2013-01-02 16:00:00 |\n",
       "| 2013 | 1 | 3 | NA |  857 | NA | NA | 1209 | NA | UA |  714 | NA | EWR | MIA | NA | 1085 |  8 | 57 | 2013-01-03 08:00:00 |\n",
       "| 2013 | 1 | 3 | NA |  645 | NA | NA |  952 | NA | UA |  719 | NA | EWR | DFW | NA | 1372 |  6 | 45 | 2013-01-03 06:00:00 |\n",
       "| 2013 | 1 | 4 | NA |  845 | NA | NA | 1015 | NA | 9E | 3405 | NA | JFK | DCA | NA |  213 |  8 | 45 | 2013-01-04 08:00:00 |\n",
       "| 2013 | 1 | 4 | NA | 1830 | NA | NA | 2044 | NA | 9E | 3716 | NA | EWR | DTW | NA |  488 | 18 | 30 | 2013-01-04 18:00:00 |\n",
       "\n"
      ],
      "text/plain": [
       "  year month day dep_time sched_dep_time dep_delay arr_time sched_arr_time\n",
       "1 2013 1     2   NA       1545           NA        NA       1910          \n",
       "2 2013 1     2   NA       1601           NA        NA       1735          \n",
       "3 2013 1     3   NA        857           NA        NA       1209          \n",
       "4 2013 1     3   NA        645           NA        NA        952          \n",
       "5 2013 1     4   NA        845           NA        NA       1015          \n",
       "6 2013 1     4   NA       1830           NA        NA       2044          \n",
       "  arr_delay carrier flight tailnum origin dest air_time distance hour minute\n",
       "1 NA        AA       133   NA      JFK    LAX  NA       2475     15   45    \n",
       "2 NA        UA       623   NA      EWR    ORD  NA        719     16    1    \n",
       "3 NA        UA       714   NA      EWR    MIA  NA       1085      8   57    \n",
       "4 NA        UA       719   NA      EWR    DFW  NA       1372      6   45    \n",
       "5 NA        9E      3405   NA      JFK    DCA  NA        213      8   45    \n",
       "6 NA        9E      3716   NA      EWR    DTW  NA        488     18   30    \n",
       "  time_hour          \n",
       "1 2013-01-02 15:00:00\n",
       "2 2013-01-02 16:00:00\n",
       "3 2013-01-03 08:00:00\n",
       "4 2013-01-03 06:00:00\n",
       "5 2013-01-04 08:00:00\n",
       "6 2013-01-04 18:00:00"
      ]
     },
     "metadata": {},
     "output_type": "display_data"
    }
   ],
   "source": [
    "# Report flights with missing values at the top\n",
    "flights %>% \n",
    "    arrange(desc(is.na(dep_time)),\n",
    "           desc(is.na(dep_delay)),\n",
    "           desc(is.na(arr_time)), \n",
    "           desc(is.na(arr_delay)),\n",
    "           desc(is.na(tailnum)),\n",
    "           desc(is.na(air_time))) %>%\n",
    "    head()"
   ]
  },
  {
   "cell_type": "markdown",
   "metadata": {},
   "source": [
    "4. Sort flights to find the fastest flights."
   ]
  },
  {
   "cell_type": "code",
   "execution_count": 42,
   "metadata": {},
   "outputs": [
    {
     "data": {
      "text/html": [
       "<table class=\"dataframe\">\n",
       "<caption>A data.frame: 6 × 19</caption>\n",
       "<thead>\n",
       "\t<tr><th></th><th scope=col>year</th><th scope=col>month</th><th scope=col>day</th><th scope=col>dep_time</th><th scope=col>sched_dep_time</th><th scope=col>dep_delay</th><th scope=col>arr_time</th><th scope=col>sched_arr_time</th><th scope=col>arr_delay</th><th scope=col>carrier</th><th scope=col>flight</th><th scope=col>tailnum</th><th scope=col>origin</th><th scope=col>dest</th><th scope=col>air_time</th><th scope=col>distance</th><th scope=col>hour</th><th scope=col>minute</th><th scope=col>time_hour</th></tr>\n",
       "\t<tr><th></th><th scope=col>&lt;int&gt;</th><th scope=col>&lt;int&gt;</th><th scope=col>&lt;int&gt;</th><th scope=col>&lt;int&gt;</th><th scope=col>&lt;int&gt;</th><th scope=col>&lt;dbl&gt;</th><th scope=col>&lt;int&gt;</th><th scope=col>&lt;int&gt;</th><th scope=col>&lt;dbl&gt;</th><th scope=col>&lt;chr&gt;</th><th scope=col>&lt;int&gt;</th><th scope=col>&lt;chr&gt;</th><th scope=col>&lt;chr&gt;</th><th scope=col>&lt;chr&gt;</th><th scope=col>&lt;dbl&gt;</th><th scope=col>&lt;dbl&gt;</th><th scope=col>&lt;dbl&gt;</th><th scope=col>&lt;dbl&gt;</th><th scope=col>&lt;dttm&gt;</th></tr>\n",
       "</thead>\n",
       "<tbody>\n",
       "\t<tr><th scope=row>1</th><td>2013</td><td> 1</td><td>16</td><td>1355</td><td>1315</td><td> 40</td><td>1442</td><td>1411</td><td> 31</td><td>EV</td><td>4368</td><td>N16911</td><td>EWR</td><td>BDL</td><td>20</td><td>116</td><td>13</td><td>15</td><td>2013-01-16 13:00:00</td></tr>\n",
       "\t<tr><th scope=row>2</th><td>2013</td><td> 4</td><td>13</td><td> 537</td><td> 527</td><td> 10</td><td> 622</td><td> 628</td><td> -6</td><td>EV</td><td>4631</td><td>N12167</td><td>EWR</td><td>BDL</td><td>20</td><td>116</td><td> 5</td><td>27</td><td>2013-04-13 05:00:00</td></tr>\n",
       "\t<tr><th scope=row>3</th><td>2013</td><td>12</td><td> 6</td><td> 922</td><td> 851</td><td> 31</td><td>1021</td><td> 954</td><td> 27</td><td>EV</td><td>4276</td><td>N27200</td><td>EWR</td><td>BDL</td><td>21</td><td>116</td><td> 8</td><td>51</td><td>2013-12-06 08:00:00</td></tr>\n",
       "\t<tr><th scope=row>4</th><td>2013</td><td> 2</td><td> 3</td><td>2153</td><td>2129</td><td> 24</td><td>2247</td><td>2224</td><td> 23</td><td>EV</td><td>4619</td><td>N13913</td><td>EWR</td><td>PHL</td><td>21</td><td> 80</td><td>21</td><td>29</td><td>2013-02-03 21:00:00</td></tr>\n",
       "\t<tr><th scope=row>5</th><td>2013</td><td> 2</td><td> 5</td><td>1303</td><td>1315</td><td>-12</td><td>1342</td><td>1411</td><td>-29</td><td>EV</td><td>4368</td><td>N13955</td><td>EWR</td><td>BDL</td><td>21</td><td>116</td><td>13</td><td>15</td><td>2013-02-05 13:00:00</td></tr>\n",
       "\t<tr><th scope=row>6</th><td>2013</td><td> 2</td><td>12</td><td>2123</td><td>2130</td><td> -7</td><td>2211</td><td>2225</td><td>-14</td><td>EV</td><td>4619</td><td>N12921</td><td>EWR</td><td>PHL</td><td>21</td><td> 80</td><td>21</td><td>30</td><td>2013-02-12 21:00:00</td></tr>\n",
       "</tbody>\n",
       "</table>\n"
      ],
      "text/latex": [
       "A data.frame: 6 × 19\n",
       "\\begin{tabular}{r|lllllllllllllllllll}\n",
       "  & year & month & day & dep\\_time & sched\\_dep\\_time & dep\\_delay & arr\\_time & sched\\_arr\\_time & arr\\_delay & carrier & flight & tailnum & origin & dest & air\\_time & distance & hour & minute & time\\_hour\\\\\n",
       "  & <int> & <int> & <int> & <int> & <int> & <dbl> & <int> & <int> & <dbl> & <chr> & <int> & <chr> & <chr> & <chr> & <dbl> & <dbl> & <dbl> & <dbl> & <dttm>\\\\\n",
       "\\hline\n",
       "\t1 & 2013 &  1 & 16 & 1355 & 1315 &  40 & 1442 & 1411 &  31 & EV & 4368 & N16911 & EWR & BDL & 20 & 116 & 13 & 15 & 2013-01-16 13:00:00\\\\\n",
       "\t2 & 2013 &  4 & 13 &  537 &  527 &  10 &  622 &  628 &  -6 & EV & 4631 & N12167 & EWR & BDL & 20 & 116 &  5 & 27 & 2013-04-13 05:00:00\\\\\n",
       "\t3 & 2013 & 12 &  6 &  922 &  851 &  31 & 1021 &  954 &  27 & EV & 4276 & N27200 & EWR & BDL & 21 & 116 &  8 & 51 & 2013-12-06 08:00:00\\\\\n",
       "\t4 & 2013 &  2 &  3 & 2153 & 2129 &  24 & 2247 & 2224 &  23 & EV & 4619 & N13913 & EWR & PHL & 21 &  80 & 21 & 29 & 2013-02-03 21:00:00\\\\\n",
       "\t5 & 2013 &  2 &  5 & 1303 & 1315 & -12 & 1342 & 1411 & -29 & EV & 4368 & N13955 & EWR & BDL & 21 & 116 & 13 & 15 & 2013-02-05 13:00:00\\\\\n",
       "\t6 & 2013 &  2 & 12 & 2123 & 2130 &  -7 & 2211 & 2225 & -14 & EV & 4619 & N12921 & EWR & PHL & 21 &  80 & 21 & 30 & 2013-02-12 21:00:00\\\\\n",
       "\\end{tabular}\n"
      ],
      "text/markdown": [
       "\n",
       "A data.frame: 6 × 19\n",
       "\n",
       "| <!--/--> | year &lt;int&gt; | month &lt;int&gt; | day &lt;int&gt; | dep_time &lt;int&gt; | sched_dep_time &lt;int&gt; | dep_delay &lt;dbl&gt; | arr_time &lt;int&gt; | sched_arr_time &lt;int&gt; | arr_delay &lt;dbl&gt; | carrier &lt;chr&gt; | flight &lt;int&gt; | tailnum &lt;chr&gt; | origin &lt;chr&gt; | dest &lt;chr&gt; | air_time &lt;dbl&gt; | distance &lt;dbl&gt; | hour &lt;dbl&gt; | minute &lt;dbl&gt; | time_hour &lt;dttm&gt; |\n",
       "|---|---|---|---|---|---|---|---|---|---|---|---|---|---|---|---|---|---|---|---|\n",
       "| 1 | 2013 |  1 | 16 | 1355 | 1315 |  40 | 1442 | 1411 |  31 | EV | 4368 | N16911 | EWR | BDL | 20 | 116 | 13 | 15 | 2013-01-16 13:00:00 |\n",
       "| 2 | 2013 |  4 | 13 |  537 |  527 |  10 |  622 |  628 |  -6 | EV | 4631 | N12167 | EWR | BDL | 20 | 116 |  5 | 27 | 2013-04-13 05:00:00 |\n",
       "| 3 | 2013 | 12 |  6 |  922 |  851 |  31 | 1021 |  954 |  27 | EV | 4276 | N27200 | EWR | BDL | 21 | 116 |  8 | 51 | 2013-12-06 08:00:00 |\n",
       "| 4 | 2013 |  2 |  3 | 2153 | 2129 |  24 | 2247 | 2224 |  23 | EV | 4619 | N13913 | EWR | PHL | 21 |  80 | 21 | 29 | 2013-02-03 21:00:00 |\n",
       "| 5 | 2013 |  2 |  5 | 1303 | 1315 | -12 | 1342 | 1411 | -29 | EV | 4368 | N13955 | EWR | BDL | 21 | 116 | 13 | 15 | 2013-02-05 13:00:00 |\n",
       "| 6 | 2013 |  2 | 12 | 2123 | 2130 |  -7 | 2211 | 2225 | -14 | EV | 4619 | N12921 | EWR | PHL | 21 |  80 | 21 | 30 | 2013-02-12 21:00:00 |\n",
       "\n"
      ],
      "text/plain": [
       "  year month day dep_time sched_dep_time dep_delay arr_time sched_arr_time\n",
       "1 2013  1    16  1355     1315            40       1442     1411          \n",
       "2 2013  4    13   537      527            10        622      628          \n",
       "3 2013 12     6   922      851            31       1021      954          \n",
       "4 2013  2     3  2153     2129            24       2247     2224          \n",
       "5 2013  2     5  1303     1315           -12       1342     1411          \n",
       "6 2013  2    12  2123     2130            -7       2211     2225          \n",
       "  arr_delay carrier flight tailnum origin dest air_time distance hour minute\n",
       "1  31       EV      4368   N16911  EWR    BDL  20       116      13   15    \n",
       "2  -6       EV      4631   N12167  EWR    BDL  20       116       5   27    \n",
       "3  27       EV      4276   N27200  EWR    BDL  21       116       8   51    \n",
       "4  23       EV      4619   N13913  EWR    PHL  21        80      21   29    \n",
       "5 -29       EV      4368   N13955  EWR    BDL  21       116      13   15    \n",
       "6 -14       EV      4619   N12921  EWR    PHL  21        80      21   30    \n",
       "  time_hour          \n",
       "1 2013-01-16 13:00:00\n",
       "2 2013-04-13 05:00:00\n",
       "3 2013-12-06 08:00:00\n",
       "4 2013-02-03 21:00:00\n",
       "5 2013-02-05 13:00:00\n",
       "6 2013-02-12 21:00:00"
      ]
     },
     "metadata": {},
     "output_type": "display_data"
    }
   ],
   "source": [
    "# Here we can simply use `arrange()` as the variables `air_time` is of type 'double', i.e. numeric.\n",
    "head(arrange(df, air_time))"
   ]
  },
  {
   "cell_type": "markdown",
   "metadata": {},
   "source": [
    "5. Which flights traveled the longest? Which traveled the shortest?"
   ]
  },
  {
   "cell_type": "code",
   "execution_count": 47,
   "metadata": {},
   "outputs": [
    {
     "data": {
      "text/html": [
       "<table class=\"dataframe\">\n",
       "<caption>A data.frame: 6 × 19</caption>\n",
       "<thead>\n",
       "\t<tr><th></th><th scope=col>year</th><th scope=col>month</th><th scope=col>day</th><th scope=col>dep_time</th><th scope=col>sched_dep_time</th><th scope=col>dep_delay</th><th scope=col>arr_time</th><th scope=col>sched_arr_time</th><th scope=col>arr_delay</th><th scope=col>carrier</th><th scope=col>flight</th><th scope=col>tailnum</th><th scope=col>origin</th><th scope=col>dest</th><th scope=col>air_time</th><th scope=col>distance</th><th scope=col>hour</th><th scope=col>minute</th><th scope=col>time_hour</th></tr>\n",
       "\t<tr><th></th><th scope=col>&lt;int&gt;</th><th scope=col>&lt;int&gt;</th><th scope=col>&lt;int&gt;</th><th scope=col>&lt;int&gt;</th><th scope=col>&lt;int&gt;</th><th scope=col>&lt;dbl&gt;</th><th scope=col>&lt;int&gt;</th><th scope=col>&lt;int&gt;</th><th scope=col>&lt;dbl&gt;</th><th scope=col>&lt;chr&gt;</th><th scope=col>&lt;int&gt;</th><th scope=col>&lt;chr&gt;</th><th scope=col>&lt;chr&gt;</th><th scope=col>&lt;chr&gt;</th><th scope=col>&lt;dbl&gt;</th><th scope=col>&lt;dbl&gt;</th><th scope=col>&lt;dbl&gt;</th><th scope=col>&lt;dbl&gt;</th><th scope=col>&lt;dttm&gt;</th></tr>\n",
       "</thead>\n",
       "<tbody>\n",
       "\t<tr><th scope=row>1</th><td>2013</td><td>1</td><td>1</td><td> 857</td><td>900</td><td>-3</td><td>1516</td><td>1530</td><td>-14</td><td>HA</td><td>51</td><td>N380HA</td><td>JFK</td><td>HNL</td><td>659</td><td>4983</td><td>9</td><td>0</td><td>2013-01-01 09:00:00</td></tr>\n",
       "\t<tr><th scope=row>2</th><td>2013</td><td>1</td><td>2</td><td> 909</td><td>900</td><td> 9</td><td>1525</td><td>1530</td><td> -5</td><td>HA</td><td>51</td><td>N380HA</td><td>JFK</td><td>HNL</td><td>638</td><td>4983</td><td>9</td><td>0</td><td>2013-01-02 09:00:00</td></tr>\n",
       "\t<tr><th scope=row>3</th><td>2013</td><td>1</td><td>3</td><td> 914</td><td>900</td><td>14</td><td>1504</td><td>1530</td><td>-26</td><td>HA</td><td>51</td><td>N380HA</td><td>JFK</td><td>HNL</td><td>616</td><td>4983</td><td>9</td><td>0</td><td>2013-01-03 09:00:00</td></tr>\n",
       "\t<tr><th scope=row>4</th><td>2013</td><td>1</td><td>4</td><td> 900</td><td>900</td><td> 0</td><td>1516</td><td>1530</td><td>-14</td><td>HA</td><td>51</td><td>N384HA</td><td>JFK</td><td>HNL</td><td>639</td><td>4983</td><td>9</td><td>0</td><td>2013-01-04 09:00:00</td></tr>\n",
       "\t<tr><th scope=row>5</th><td>2013</td><td>1</td><td>5</td><td> 858</td><td>900</td><td>-2</td><td>1519</td><td>1530</td><td>-11</td><td>HA</td><td>51</td><td>N381HA</td><td>JFK</td><td>HNL</td><td>635</td><td>4983</td><td>9</td><td>0</td><td>2013-01-05 09:00:00</td></tr>\n",
       "\t<tr><th scope=row>6</th><td>2013</td><td>1</td><td>6</td><td>1019</td><td>900</td><td>79</td><td>1558</td><td>1530</td><td> 28</td><td>HA</td><td>51</td><td>N385HA</td><td>JFK</td><td>HNL</td><td>611</td><td>4983</td><td>9</td><td>0</td><td>2013-01-06 09:00:00</td></tr>\n",
       "</tbody>\n",
       "</table>\n"
      ],
      "text/latex": [
       "A data.frame: 6 × 19\n",
       "\\begin{tabular}{r|lllllllllllllllllll}\n",
       "  & year & month & day & dep\\_time & sched\\_dep\\_time & dep\\_delay & arr\\_time & sched\\_arr\\_time & arr\\_delay & carrier & flight & tailnum & origin & dest & air\\_time & distance & hour & minute & time\\_hour\\\\\n",
       "  & <int> & <int> & <int> & <int> & <int> & <dbl> & <int> & <int> & <dbl> & <chr> & <int> & <chr> & <chr> & <chr> & <dbl> & <dbl> & <dbl> & <dbl> & <dttm>\\\\\n",
       "\\hline\n",
       "\t1 & 2013 & 1 & 1 &  857 & 900 & -3 & 1516 & 1530 & -14 & HA & 51 & N380HA & JFK & HNL & 659 & 4983 & 9 & 0 & 2013-01-01 09:00:00\\\\\n",
       "\t2 & 2013 & 1 & 2 &  909 & 900 &  9 & 1525 & 1530 &  -5 & HA & 51 & N380HA & JFK & HNL & 638 & 4983 & 9 & 0 & 2013-01-02 09:00:00\\\\\n",
       "\t3 & 2013 & 1 & 3 &  914 & 900 & 14 & 1504 & 1530 & -26 & HA & 51 & N380HA & JFK & HNL & 616 & 4983 & 9 & 0 & 2013-01-03 09:00:00\\\\\n",
       "\t4 & 2013 & 1 & 4 &  900 & 900 &  0 & 1516 & 1530 & -14 & HA & 51 & N384HA & JFK & HNL & 639 & 4983 & 9 & 0 & 2013-01-04 09:00:00\\\\\n",
       "\t5 & 2013 & 1 & 5 &  858 & 900 & -2 & 1519 & 1530 & -11 & HA & 51 & N381HA & JFK & HNL & 635 & 4983 & 9 & 0 & 2013-01-05 09:00:00\\\\\n",
       "\t6 & 2013 & 1 & 6 & 1019 & 900 & 79 & 1558 & 1530 &  28 & HA & 51 & N385HA & JFK & HNL & 611 & 4983 & 9 & 0 & 2013-01-06 09:00:00\\\\\n",
       "\\end{tabular}\n"
      ],
      "text/markdown": [
       "\n",
       "A data.frame: 6 × 19\n",
       "\n",
       "| <!--/--> | year &lt;int&gt; | month &lt;int&gt; | day &lt;int&gt; | dep_time &lt;int&gt; | sched_dep_time &lt;int&gt; | dep_delay &lt;dbl&gt; | arr_time &lt;int&gt; | sched_arr_time &lt;int&gt; | arr_delay &lt;dbl&gt; | carrier &lt;chr&gt; | flight &lt;int&gt; | tailnum &lt;chr&gt; | origin &lt;chr&gt; | dest &lt;chr&gt; | air_time &lt;dbl&gt; | distance &lt;dbl&gt; | hour &lt;dbl&gt; | minute &lt;dbl&gt; | time_hour &lt;dttm&gt; |\n",
       "|---|---|---|---|---|---|---|---|---|---|---|---|---|---|---|---|---|---|---|---|\n",
       "| 1 | 2013 | 1 | 1 |  857 | 900 | -3 | 1516 | 1530 | -14 | HA | 51 | N380HA | JFK | HNL | 659 | 4983 | 9 | 0 | 2013-01-01 09:00:00 |\n",
       "| 2 | 2013 | 1 | 2 |  909 | 900 |  9 | 1525 | 1530 |  -5 | HA | 51 | N380HA | JFK | HNL | 638 | 4983 | 9 | 0 | 2013-01-02 09:00:00 |\n",
       "| 3 | 2013 | 1 | 3 |  914 | 900 | 14 | 1504 | 1530 | -26 | HA | 51 | N380HA | JFK | HNL | 616 | 4983 | 9 | 0 | 2013-01-03 09:00:00 |\n",
       "| 4 | 2013 | 1 | 4 |  900 | 900 |  0 | 1516 | 1530 | -14 | HA | 51 | N384HA | JFK | HNL | 639 | 4983 | 9 | 0 | 2013-01-04 09:00:00 |\n",
       "| 5 | 2013 | 1 | 5 |  858 | 900 | -2 | 1519 | 1530 | -11 | HA | 51 | N381HA | JFK | HNL | 635 | 4983 | 9 | 0 | 2013-01-05 09:00:00 |\n",
       "| 6 | 2013 | 1 | 6 | 1019 | 900 | 79 | 1558 | 1530 |  28 | HA | 51 | N385HA | JFK | HNL | 611 | 4983 | 9 | 0 | 2013-01-06 09:00:00 |\n",
       "\n"
      ],
      "text/plain": [
       "  year month day dep_time sched_dep_time dep_delay arr_time sched_arr_time\n",
       "1 2013 1     1    857     900            -3        1516     1530          \n",
       "2 2013 1     2    909     900             9        1525     1530          \n",
       "3 2013 1     3    914     900            14        1504     1530          \n",
       "4 2013 1     4    900     900             0        1516     1530          \n",
       "5 2013 1     5    858     900            -2        1519     1530          \n",
       "6 2013 1     6   1019     900            79        1558     1530          \n",
       "  arr_delay carrier flight tailnum origin dest air_time distance hour minute\n",
       "1 -14       HA      51     N380HA  JFK    HNL  659      4983     9    0     \n",
       "2  -5       HA      51     N380HA  JFK    HNL  638      4983     9    0     \n",
       "3 -26       HA      51     N380HA  JFK    HNL  616      4983     9    0     \n",
       "4 -14       HA      51     N384HA  JFK    HNL  639      4983     9    0     \n",
       "5 -11       HA      51     N381HA  JFK    HNL  635      4983     9    0     \n",
       "6  28       HA      51     N385HA  JFK    HNL  611      4983     9    0     \n",
       "  time_hour          \n",
       "1 2013-01-01 09:00:00\n",
       "2 2013-01-02 09:00:00\n",
       "3 2013-01-03 09:00:00\n",
       "4 2013-01-04 09:00:00\n",
       "5 2013-01-05 09:00:00\n",
       "6 2013-01-06 09:00:00"
      ]
     },
     "metadata": {},
     "output_type": "display_data"
    }
   ],
   "source": [
    "# Report flights with longest traveled distance\n",
    "head(arrange(df, desc(distance)))"
   ]
  },
  {
   "cell_type": "code",
   "execution_count": 56,
   "metadata": {},
   "outputs": [
    {
     "data": {
      "text/html": [
       "<table class=\"dataframe\">\n",
       "<caption>A data.frame: 6 × 19</caption>\n",
       "<thead>\n",
       "\t<tr><th></th><th scope=col>year</th><th scope=col>month</th><th scope=col>day</th><th scope=col>dep_time</th><th scope=col>sched_dep_time</th><th scope=col>dep_delay</th><th scope=col>arr_time</th><th scope=col>sched_arr_time</th><th scope=col>arr_delay</th><th scope=col>carrier</th><th scope=col>flight</th><th scope=col>tailnum</th><th scope=col>origin</th><th scope=col>dest</th><th scope=col>air_time</th><th scope=col>distance</th><th scope=col>hour</th><th scope=col>minute</th><th scope=col>time_hour</th></tr>\n",
       "\t<tr><th></th><th scope=col>&lt;int&gt;</th><th scope=col>&lt;int&gt;</th><th scope=col>&lt;int&gt;</th><th scope=col>&lt;int&gt;</th><th scope=col>&lt;int&gt;</th><th scope=col>&lt;dbl&gt;</th><th scope=col>&lt;int&gt;</th><th scope=col>&lt;int&gt;</th><th scope=col>&lt;dbl&gt;</th><th scope=col>&lt;chr&gt;</th><th scope=col>&lt;int&gt;</th><th scope=col>&lt;chr&gt;</th><th scope=col>&lt;chr&gt;</th><th scope=col>&lt;chr&gt;</th><th scope=col>&lt;dbl&gt;</th><th scope=col>&lt;dbl&gt;</th><th scope=col>&lt;dbl&gt;</th><th scope=col>&lt;dbl&gt;</th><th scope=col>&lt;dttm&gt;</th></tr>\n",
       "</thead>\n",
       "<tbody>\n",
       "\t<tr><th scope=row>1</th><td>2013</td><td>7</td><td>27</td><td>  NA</td><td> 106</td><td> NA</td><td>  NA</td><td> 245</td><td> NA</td><td>US</td><td>1632</td><td>NA    </td><td>EWR</td><td>LGA</td><td>NA</td><td>17</td><td> 1</td><td> 6</td><td>2013-07-27 01:00:00</td></tr>\n",
       "\t<tr><th scope=row>2</th><td>2013</td><td>1</td><td> 3</td><td>2127</td><td>2129</td><td> -2</td><td>2222</td><td>2224</td><td> -2</td><td>EV</td><td>3833</td><td>N13989</td><td>EWR</td><td>PHL</td><td>30</td><td>80</td><td>21</td><td>29</td><td>2013-01-03 21:00:00</td></tr>\n",
       "\t<tr><th scope=row>3</th><td>2013</td><td>1</td><td> 4</td><td>1240</td><td>1200</td><td> 40</td><td>1333</td><td>1306</td><td> 27</td><td>EV</td><td>4193</td><td>N14972</td><td>EWR</td><td>PHL</td><td>30</td><td>80</td><td>12</td><td> 0</td><td>2013-01-04 12:00:00</td></tr>\n",
       "\t<tr><th scope=row>4</th><td>2013</td><td>1</td><td> 4</td><td>1829</td><td>1615</td><td>134</td><td>1937</td><td>1721</td><td>136</td><td>EV</td><td>4502</td><td>N15983</td><td>EWR</td><td>PHL</td><td>28</td><td>80</td><td>16</td><td>15</td><td>2013-01-04 16:00:00</td></tr>\n",
       "\t<tr><th scope=row>5</th><td>2013</td><td>1</td><td> 4</td><td>2128</td><td>2129</td><td> -1</td><td>2218</td><td>2224</td><td> -6</td><td>EV</td><td>4645</td><td>N27962</td><td>EWR</td><td>PHL</td><td>32</td><td>80</td><td>21</td><td>29</td><td>2013-01-04 21:00:00</td></tr>\n",
       "\t<tr><th scope=row>6</th><td>2013</td><td>1</td><td> 5</td><td>1155</td><td>1200</td><td> -5</td><td>1241</td><td>1306</td><td>-25</td><td>EV</td><td>4193</td><td>N14902</td><td>EWR</td><td>PHL</td><td>29</td><td>80</td><td>12</td><td> 0</td><td>2013-01-05 12:00:00</td></tr>\n",
       "</tbody>\n",
       "</table>\n"
      ],
      "text/latex": [
       "A data.frame: 6 × 19\n",
       "\\begin{tabular}{r|lllllllllllllllllll}\n",
       "  & year & month & day & dep\\_time & sched\\_dep\\_time & dep\\_delay & arr\\_time & sched\\_arr\\_time & arr\\_delay & carrier & flight & tailnum & origin & dest & air\\_time & distance & hour & minute & time\\_hour\\\\\n",
       "  & <int> & <int> & <int> & <int> & <int> & <dbl> & <int> & <int> & <dbl> & <chr> & <int> & <chr> & <chr> & <chr> & <dbl> & <dbl> & <dbl> & <dbl> & <dttm>\\\\\n",
       "\\hline\n",
       "\t1 & 2013 & 7 & 27 &   NA &  106 &  NA &   NA &  245 &  NA & US & 1632 & NA     & EWR & LGA & NA & 17 &  1 &  6 & 2013-07-27 01:00:00\\\\\n",
       "\t2 & 2013 & 1 &  3 & 2127 & 2129 &  -2 & 2222 & 2224 &  -2 & EV & 3833 & N13989 & EWR & PHL & 30 & 80 & 21 & 29 & 2013-01-03 21:00:00\\\\\n",
       "\t3 & 2013 & 1 &  4 & 1240 & 1200 &  40 & 1333 & 1306 &  27 & EV & 4193 & N14972 & EWR & PHL & 30 & 80 & 12 &  0 & 2013-01-04 12:00:00\\\\\n",
       "\t4 & 2013 & 1 &  4 & 1829 & 1615 & 134 & 1937 & 1721 & 136 & EV & 4502 & N15983 & EWR & PHL & 28 & 80 & 16 & 15 & 2013-01-04 16:00:00\\\\\n",
       "\t5 & 2013 & 1 &  4 & 2128 & 2129 &  -1 & 2218 & 2224 &  -6 & EV & 4645 & N27962 & EWR & PHL & 32 & 80 & 21 & 29 & 2013-01-04 21:00:00\\\\\n",
       "\t6 & 2013 & 1 &  5 & 1155 & 1200 &  -5 & 1241 & 1306 & -25 & EV & 4193 & N14902 & EWR & PHL & 29 & 80 & 12 &  0 & 2013-01-05 12:00:00\\\\\n",
       "\\end{tabular}\n"
      ],
      "text/markdown": [
       "\n",
       "A data.frame: 6 × 19\n",
       "\n",
       "| <!--/--> | year &lt;int&gt; | month &lt;int&gt; | day &lt;int&gt; | dep_time &lt;int&gt; | sched_dep_time &lt;int&gt; | dep_delay &lt;dbl&gt; | arr_time &lt;int&gt; | sched_arr_time &lt;int&gt; | arr_delay &lt;dbl&gt; | carrier &lt;chr&gt; | flight &lt;int&gt; | tailnum &lt;chr&gt; | origin &lt;chr&gt; | dest &lt;chr&gt; | air_time &lt;dbl&gt; | distance &lt;dbl&gt; | hour &lt;dbl&gt; | minute &lt;dbl&gt; | time_hour &lt;dttm&gt; |\n",
       "|---|---|---|---|---|---|---|---|---|---|---|---|---|---|---|---|---|---|---|---|\n",
       "| 1 | 2013 | 7 | 27 |   NA |  106 |  NA |   NA |  245 |  NA | US | 1632 | NA     | EWR | LGA | NA | 17 |  1 |  6 | 2013-07-27 01:00:00 |\n",
       "| 2 | 2013 | 1 |  3 | 2127 | 2129 |  -2 | 2222 | 2224 |  -2 | EV | 3833 | N13989 | EWR | PHL | 30 | 80 | 21 | 29 | 2013-01-03 21:00:00 |\n",
       "| 3 | 2013 | 1 |  4 | 1240 | 1200 |  40 | 1333 | 1306 |  27 | EV | 4193 | N14972 | EWR | PHL | 30 | 80 | 12 |  0 | 2013-01-04 12:00:00 |\n",
       "| 4 | 2013 | 1 |  4 | 1829 | 1615 | 134 | 1937 | 1721 | 136 | EV | 4502 | N15983 | EWR | PHL | 28 | 80 | 16 | 15 | 2013-01-04 16:00:00 |\n",
       "| 5 | 2013 | 1 |  4 | 2128 | 2129 |  -1 | 2218 | 2224 |  -6 | EV | 4645 | N27962 | EWR | PHL | 32 | 80 | 21 | 29 | 2013-01-04 21:00:00 |\n",
       "| 6 | 2013 | 1 |  5 | 1155 | 1200 |  -5 | 1241 | 1306 | -25 | EV | 4193 | N14902 | EWR | PHL | 29 | 80 | 12 |  0 | 2013-01-05 12:00:00 |\n",
       "\n"
      ],
      "text/plain": [
       "  year month day dep_time sched_dep_time dep_delay arr_time sched_arr_time\n",
       "1 2013 7     27    NA      106            NA         NA      245          \n",
       "2 2013 1      3  2127     2129            -2       2222     2224          \n",
       "3 2013 1      4  1240     1200            40       1333     1306          \n",
       "4 2013 1      4  1829     1615           134       1937     1721          \n",
       "5 2013 1      4  2128     2129            -1       2218     2224          \n",
       "6 2013 1      5  1155     1200            -5       1241     1306          \n",
       "  arr_delay carrier flight tailnum origin dest air_time distance hour minute\n",
       "1  NA       US      1632   NA      EWR    LGA  NA       17        1    6    \n",
       "2  -2       EV      3833   N13989  EWR    PHL  30       80       21   29    \n",
       "3  27       EV      4193   N14972  EWR    PHL  30       80       12    0    \n",
       "4 136       EV      4502   N15983  EWR    PHL  28       80       16   15    \n",
       "5  -6       EV      4645   N27962  EWR    PHL  32       80       21   29    \n",
       "6 -25       EV      4193   N14902  EWR    PHL  29       80       12    0    \n",
       "  time_hour          \n",
       "1 2013-07-27 01:00:00\n",
       "2 2013-01-03 21:00:00\n",
       "3 2013-01-04 12:00:00\n",
       "4 2013-01-04 16:00:00\n",
       "5 2013-01-04 21:00:00\n",
       "6 2013-01-05 12:00:00"
      ]
     },
     "metadata": {},
     "output_type": "display_data"
    }
   ],
   "source": [
    "# Report flights with shortest traveled distance\n",
    "head(arrange(df, distance))"
   ]
  },
  {
   "cell_type": "markdown",
   "metadata": {},
   "source": [
    "6. What does the `all_of()` and the `any_of()` functions do? Why might they be helpful in conjunction with this vector?\n",
    "> `vars <- c(\"year\", \"month\", \"day\", \"dep_delay\", \"arr_delay\")`"
   ]
  },
  {
   "cell_type": "code",
   "execution_count": 53,
   "metadata": {},
   "outputs": [],
   "source": [
    "vars <- c(\"year\", \"month\", \"day\", \"dep_delay\", \"arr_delay\")"
   ]
  },
  {
   "cell_type": "markdown",
   "metadata": {},
   "source": [
    "*Student: From `tidyselect`, `all_of()` will return error if any of the variables/elements of vector `vars` is not in the applied dataframe. `any_of()` will work even if some variables/elements of vector `vars` is not in applied dataframe. `any_of()` is e.g. useful when removing variables from a dataframe and some might not be in the specified list but the user does not care about this - she just wants to make sure that all of these variables are excluded from the resulting dataframe.*"
   ]
  },
  {
   "cell_type": "code",
   "execution_count": 57,
   "metadata": {},
   "outputs": [
    {
     "data": {
      "text/html": [
       "<table class=\"dataframe\">\n",
       "<caption>A data.frame: 6 × 5</caption>\n",
       "<thead>\n",
       "\t<tr><th></th><th scope=col>year</th><th scope=col>month</th><th scope=col>day</th><th scope=col>dep_delay</th><th scope=col>arr_delay</th></tr>\n",
       "\t<tr><th></th><th scope=col>&lt;int&gt;</th><th scope=col>&lt;int&gt;</th><th scope=col>&lt;int&gt;</th><th scope=col>&lt;dbl&gt;</th><th scope=col>&lt;dbl&gt;</th></tr>\n",
       "</thead>\n",
       "<tbody>\n",
       "\t<tr><th scope=row>1</th><td>2013</td><td>1</td><td>1</td><td> 2</td><td> 11</td></tr>\n",
       "\t<tr><th scope=row>2</th><td>2013</td><td>1</td><td>1</td><td> 4</td><td> 20</td></tr>\n",
       "\t<tr><th scope=row>3</th><td>2013</td><td>1</td><td>1</td><td> 2</td><td> 33</td></tr>\n",
       "\t<tr><th scope=row>4</th><td>2013</td><td>1</td><td>1</td><td>-1</td><td>-18</td></tr>\n",
       "\t<tr><th scope=row>5</th><td>2013</td><td>1</td><td>1</td><td>-6</td><td>-25</td></tr>\n",
       "\t<tr><th scope=row>6</th><td>2013</td><td>1</td><td>1</td><td>-4</td><td> 12</td></tr>\n",
       "</tbody>\n",
       "</table>\n"
      ],
      "text/latex": [
       "A data.frame: 6 × 5\n",
       "\\begin{tabular}{r|lllll}\n",
       "  & year & month & day & dep\\_delay & arr\\_delay\\\\\n",
       "  & <int> & <int> & <int> & <dbl> & <dbl>\\\\\n",
       "\\hline\n",
       "\t1 & 2013 & 1 & 1 &  2 &  11\\\\\n",
       "\t2 & 2013 & 1 & 1 &  4 &  20\\\\\n",
       "\t3 & 2013 & 1 & 1 &  2 &  33\\\\\n",
       "\t4 & 2013 & 1 & 1 & -1 & -18\\\\\n",
       "\t5 & 2013 & 1 & 1 & -6 & -25\\\\\n",
       "\t6 & 2013 & 1 & 1 & -4 &  12\\\\\n",
       "\\end{tabular}\n"
      ],
      "text/markdown": [
       "\n",
       "A data.frame: 6 × 5\n",
       "\n",
       "| <!--/--> | year &lt;int&gt; | month &lt;int&gt; | day &lt;int&gt; | dep_delay &lt;dbl&gt; | arr_delay &lt;dbl&gt; |\n",
       "|---|---|---|---|---|---|\n",
       "| 1 | 2013 | 1 | 1 |  2 |  11 |\n",
       "| 2 | 2013 | 1 | 1 |  4 |  20 |\n",
       "| 3 | 2013 | 1 | 1 |  2 |  33 |\n",
       "| 4 | 2013 | 1 | 1 | -1 | -18 |\n",
       "| 5 | 2013 | 1 | 1 | -6 | -25 |\n",
       "| 6 | 2013 | 1 | 1 | -4 |  12 |\n",
       "\n"
      ],
      "text/plain": [
       "  year month day dep_delay arr_delay\n",
       "1 2013 1     1    2         11      \n",
       "2 2013 1     1    4         20      \n",
       "3 2013 1     1    2         33      \n",
       "4 2013 1     1   -1        -18      \n",
       "5 2013 1     1   -6        -25      \n",
       "6 2013 1     1   -4         12      "
      ]
     },
     "metadata": {},
     "output_type": "display_data"
    }
   ],
   "source": [
    "# Your solution.\n",
    "df %>% select(all_of(vars)) %>% head()"
   ]
  },
  {
   "cell_type": "code",
   "execution_count": 58,
   "metadata": {},
   "outputs": [
    {
     "data": {
      "text/html": [
       "<table class=\"dataframe\">\n",
       "<caption>A data.frame: 6 × 5</caption>\n",
       "<thead>\n",
       "\t<tr><th></th><th scope=col>year</th><th scope=col>month</th><th scope=col>day</th><th scope=col>dep_delay</th><th scope=col>arr_delay</th></tr>\n",
       "\t<tr><th></th><th scope=col>&lt;int&gt;</th><th scope=col>&lt;int&gt;</th><th scope=col>&lt;int&gt;</th><th scope=col>&lt;dbl&gt;</th><th scope=col>&lt;dbl&gt;</th></tr>\n",
       "</thead>\n",
       "<tbody>\n",
       "\t<tr><th scope=row>1</th><td>2013</td><td>1</td><td>1</td><td> 2</td><td> 11</td></tr>\n",
       "\t<tr><th scope=row>2</th><td>2013</td><td>1</td><td>1</td><td> 4</td><td> 20</td></tr>\n",
       "\t<tr><th scope=row>3</th><td>2013</td><td>1</td><td>1</td><td> 2</td><td> 33</td></tr>\n",
       "\t<tr><th scope=row>4</th><td>2013</td><td>1</td><td>1</td><td>-1</td><td>-18</td></tr>\n",
       "\t<tr><th scope=row>5</th><td>2013</td><td>1</td><td>1</td><td>-6</td><td>-25</td></tr>\n",
       "\t<tr><th scope=row>6</th><td>2013</td><td>1</td><td>1</td><td>-4</td><td> 12</td></tr>\n",
       "</tbody>\n",
       "</table>\n"
      ],
      "text/latex": [
       "A data.frame: 6 × 5\n",
       "\\begin{tabular}{r|lllll}\n",
       "  & year & month & day & dep\\_delay & arr\\_delay\\\\\n",
       "  & <int> & <int> & <int> & <dbl> & <dbl>\\\\\n",
       "\\hline\n",
       "\t1 & 2013 & 1 & 1 &  2 &  11\\\\\n",
       "\t2 & 2013 & 1 & 1 &  4 &  20\\\\\n",
       "\t3 & 2013 & 1 & 1 &  2 &  33\\\\\n",
       "\t4 & 2013 & 1 & 1 & -1 & -18\\\\\n",
       "\t5 & 2013 & 1 & 1 & -6 & -25\\\\\n",
       "\t6 & 2013 & 1 & 1 & -4 &  12\\\\\n",
       "\\end{tabular}\n"
      ],
      "text/markdown": [
       "\n",
       "A data.frame: 6 × 5\n",
       "\n",
       "| <!--/--> | year &lt;int&gt; | month &lt;int&gt; | day &lt;int&gt; | dep_delay &lt;dbl&gt; | arr_delay &lt;dbl&gt; |\n",
       "|---|---|---|---|---|---|\n",
       "| 1 | 2013 | 1 | 1 |  2 |  11 |\n",
       "| 2 | 2013 | 1 | 1 |  4 |  20 |\n",
       "| 3 | 2013 | 1 | 1 |  2 |  33 |\n",
       "| 4 | 2013 | 1 | 1 | -1 | -18 |\n",
       "| 5 | 2013 | 1 | 1 | -6 | -25 |\n",
       "| 6 | 2013 | 1 | 1 | -4 |  12 |\n",
       "\n"
      ],
      "text/plain": [
       "  year month day dep_delay arr_delay\n",
       "1 2013 1     1    2         11      \n",
       "2 2013 1     1    4         20      \n",
       "3 2013 1     1    2         33      \n",
       "4 2013 1     1   -1        -18      \n",
       "5 2013 1     1   -6        -25      \n",
       "6 2013 1     1   -4         12      "
      ]
     },
     "metadata": {},
     "output_type": "display_data"
    }
   ],
   "source": [
    "df %>% select(any_of(vars)) %>% head()"
   ]
  },
  {
   "cell_type": "markdown",
   "metadata": {},
   "source": [
    "7. What does the sort argument to count() do? When might you use it?"
   ]
  },
  {
   "cell_type": "markdown",
   "metadata": {},
   "source": [
    "*Student: The `sort` argument of `count()` is boolean and if set to `TRUE` will show the largest groups at the top. So, it is useful if we the user is most interested in the high numbers for a given group. `sort = FALSE` is the default and does not sort.*"
   ]
  },
  {
   "cell_type": "code",
   "execution_count": 60,
   "metadata": {},
   "outputs": [
    {
     "data": {
      "text/html": [
       "<table class=\"dataframe\">\n",
       "<caption>A data.frame: 6 × 2</caption>\n",
       "<thead>\n",
       "\t<tr><th></th><th scope=col>carrier</th><th scope=col>n</th></tr>\n",
       "\t<tr><th></th><th scope=col>&lt;chr&gt;</th><th scope=col>&lt;int&gt;</th></tr>\n",
       "</thead>\n",
       "<tbody>\n",
       "\t<tr><th scope=row>1</th><td>UA</td><td>58665</td></tr>\n",
       "\t<tr><th scope=row>2</th><td>B6</td><td>54635</td></tr>\n",
       "\t<tr><th scope=row>3</th><td>EV</td><td>54173</td></tr>\n",
       "\t<tr><th scope=row>4</th><td>DL</td><td>48110</td></tr>\n",
       "\t<tr><th scope=row>5</th><td>AA</td><td>32729</td></tr>\n",
       "\t<tr><th scope=row>6</th><td>MQ</td><td>26397</td></tr>\n",
       "</tbody>\n",
       "</table>\n"
      ],
      "text/latex": [
       "A data.frame: 6 × 2\n",
       "\\begin{tabular}{r|ll}\n",
       "  & carrier & n\\\\\n",
       "  & <chr> & <int>\\\\\n",
       "\\hline\n",
       "\t1 & UA & 58665\\\\\n",
       "\t2 & B6 & 54635\\\\\n",
       "\t3 & EV & 54173\\\\\n",
       "\t4 & DL & 48110\\\\\n",
       "\t5 & AA & 32729\\\\\n",
       "\t6 & MQ & 26397\\\\\n",
       "\\end{tabular}\n"
      ],
      "text/markdown": [
       "\n",
       "A data.frame: 6 × 2\n",
       "\n",
       "| <!--/--> | carrier &lt;chr&gt; | n &lt;int&gt; |\n",
       "|---|---|---|\n",
       "| 1 | UA | 58665 |\n",
       "| 2 | B6 | 54635 |\n",
       "| 3 | EV | 54173 |\n",
       "| 4 | DL | 48110 |\n",
       "| 5 | AA | 32729 |\n",
       "| 6 | MQ | 26397 |\n",
       "\n"
      ],
      "text/plain": [
       "  carrier n    \n",
       "1 UA      58665\n",
       "2 B6      54635\n",
       "3 EV      54173\n",
       "4 DL      48110\n",
       "5 AA      32729\n",
       "6 MQ      26397"
      ]
     },
     "metadata": {},
     "output_type": "display_data"
    },
    {
     "data": {
      "text/html": [
       "<table class=\"dataframe\">\n",
       "<caption>A data.frame: 6 × 2</caption>\n",
       "<thead>\n",
       "\t<tr><th></th><th scope=col>carrier</th><th scope=col>n</th></tr>\n",
       "\t<tr><th></th><th scope=col>&lt;chr&gt;</th><th scope=col>&lt;int&gt;</th></tr>\n",
       "</thead>\n",
       "<tbody>\n",
       "\t<tr><th scope=row>1</th><td>9E</td><td>18460</td></tr>\n",
       "\t<tr><th scope=row>2</th><td>AA</td><td>32729</td></tr>\n",
       "\t<tr><th scope=row>3</th><td>AS</td><td>  714</td></tr>\n",
       "\t<tr><th scope=row>4</th><td>B6</td><td>54635</td></tr>\n",
       "\t<tr><th scope=row>5</th><td>DL</td><td>48110</td></tr>\n",
       "\t<tr><th scope=row>6</th><td>EV</td><td>54173</td></tr>\n",
       "</tbody>\n",
       "</table>\n"
      ],
      "text/latex": [
       "A data.frame: 6 × 2\n",
       "\\begin{tabular}{r|ll}\n",
       "  & carrier & n\\\\\n",
       "  & <chr> & <int>\\\\\n",
       "\\hline\n",
       "\t1 & 9E & 18460\\\\\n",
       "\t2 & AA & 32729\\\\\n",
       "\t3 & AS &   714\\\\\n",
       "\t4 & B6 & 54635\\\\\n",
       "\t5 & DL & 48110\\\\\n",
       "\t6 & EV & 54173\\\\\n",
       "\\end{tabular}\n"
      ],
      "text/markdown": [
       "\n",
       "A data.frame: 6 × 2\n",
       "\n",
       "| <!--/--> | carrier &lt;chr&gt; | n &lt;int&gt; |\n",
       "|---|---|---|\n",
       "| 1 | 9E | 18460 |\n",
       "| 2 | AA | 32729 |\n",
       "| 3 | AS |   714 |\n",
       "| 4 | B6 | 54635 |\n",
       "| 5 | DL | 48110 |\n",
       "| 6 | EV | 54173 |\n",
       "\n"
      ],
      "text/plain": [
       "  carrier n    \n",
       "1 9E      18460\n",
       "2 AA      32729\n",
       "3 AS        714\n",
       "4 B6      54635\n",
       "5 DL      48110\n",
       "6 EV      54173"
      ]
     },
     "metadata": {},
     "output_type": "display_data"
    }
   ],
   "source": [
    "df %>% count(carrier, sort = TRUE) %>% head()\n",
    "\n",
    "df %>% count(carrier, sort = FALSE) %>% head()"
   ]
  },
  {
   "cell_type": "markdown",
   "metadata": {},
   "source": [
    "8. What time of day should you fly if you want to avoid delays as much as possible?"
   ]
  },
  {
   "cell_type": "code",
   "execution_count": 63,
   "metadata": {},
   "outputs": [
    {
     "data": {
      "text/html": [
       "<table class=\"dataframe\">\n",
       "<caption>A tibble: 6 × 2</caption>\n",
       "<thead>\n",
       "\t<tr><th scope=col>hour</th><th scope=col>Mean</th></tr>\n",
       "\t<tr><th scope=col>&lt;dbl&gt;</th><th scope=col>&lt;dbl&gt;</th></tr>\n",
       "</thead>\n",
       "<tbody>\n",
       "\t<tr><td> 7</td><td>-5.3044716</td></tr>\n",
       "\t<tr><td> 5</td><td>-4.7969072</td></tr>\n",
       "\t<tr><td> 6</td><td>-3.3844854</td></tr>\n",
       "\t<tr><td> 9</td><td>-1.4514074</td></tr>\n",
       "\t<tr><td> 8</td><td>-1.1132266</td></tr>\n",
       "\t<tr><td>10</td><td> 0.9539401</td></tr>\n",
       "</tbody>\n",
       "</table>\n"
      ],
      "text/latex": [
       "A tibble: 6 × 2\n",
       "\\begin{tabular}{ll}\n",
       " hour & Mean\\\\\n",
       " <dbl> & <dbl>\\\\\n",
       "\\hline\n",
       "\t  7 & -5.3044716\\\\\n",
       "\t  5 & -4.7969072\\\\\n",
       "\t  6 & -3.3844854\\\\\n",
       "\t  9 & -1.4514074\\\\\n",
       "\t  8 & -1.1132266\\\\\n",
       "\t 10 &  0.9539401\\\\\n",
       "\\end{tabular}\n"
      ],
      "text/markdown": [
       "\n",
       "A tibble: 6 × 2\n",
       "\n",
       "| hour &lt;dbl&gt; | Mean &lt;dbl&gt; |\n",
       "|---|---|\n",
       "|  7 | -5.3044716 |\n",
       "|  5 | -4.7969072 |\n",
       "|  6 | -3.3844854 |\n",
       "|  9 | -1.4514074 |\n",
       "|  8 | -1.1132266 |\n",
       "| 10 |  0.9539401 |\n",
       "\n"
      ],
      "text/plain": [
       "  hour Mean      \n",
       "1  7   -5.3044716\n",
       "2  5   -4.7969072\n",
       "3  6   -3.3844854\n",
       "4  9   -1.4514074\n",
       "5  8   -1.1132266\n",
       "6 10    0.9539401"
      ]
     },
     "metadata": {},
     "output_type": "display_data"
    }
   ],
   "source": [
    "# From output below we see that flying at 7 AM has the lowest delays on average\n",
    "df %>% \n",
    "    group_by(hour) %>% \n",
    "    summarize(Mean = mean(arr_delay, na.rm=TRUE)) %>% \n",
    "    arrange(Mean) %>% \n",
    "    head()"
   ]
  },
  {
   "cell_type": "markdown",
   "metadata": {},
   "source": [
    "9. For each destination, compute the total minutes of delay. For each flight, compute the proportion of the total delay for its destination."
   ]
  },
  {
   "cell_type": "code",
   "execution_count": 67,
   "metadata": {},
   "outputs": [
    {
     "data": {
      "text/html": [
       "<table class=\"dataframe\">\n",
       "<caption>A grouped_df: 133004 × 9</caption>\n",
       "<thead>\n",
       "\t<tr><th scope=col>dest</th><th scope=col>month</th><th scope=col>day</th><th scope=col>dep_time</th><th scope=col>carrier</th><th scope=col>flight</th><th scope=col>arr_delay</th><th scope=col>arr_delay_tot</th><th scope=col>arr_delay_prop</th></tr>\n",
       "\t<tr><th scope=col>&lt;chr&gt;</th><th scope=col>&lt;int&gt;</th><th scope=col>&lt;int&gt;</th><th scope=col>&lt;int&gt;</th><th scope=col>&lt;chr&gt;</th><th scope=col>&lt;int&gt;</th><th scope=col>&lt;dbl&gt;</th><th scope=col>&lt;dbl&gt;</th><th scope=col>&lt;dbl&gt;</th></tr>\n",
       "</thead>\n",
       "<tbody>\n",
       "\t<tr><td>ABQ</td><td> 7</td><td>22</td><td>2145</td><td>B6</td><td>1505</td><td>153</td><td>4487</td><td>0.03409851</td></tr>\n",
       "\t<tr><td>ABQ</td><td>12</td><td>14</td><td>2223</td><td>B6</td><td>  65</td><td>149</td><td>4487</td><td>0.03320704</td></tr>\n",
       "\t<tr><td>ABQ</td><td>10</td><td>15</td><td>2146</td><td>B6</td><td>  65</td><td>138</td><td>4487</td><td>0.03075552</td></tr>\n",
       "\t<tr><td>ABQ</td><td> 7</td><td>23</td><td>2206</td><td>B6</td><td>1505</td><td>137</td><td>4487</td><td>0.03053265</td></tr>\n",
       "\t<tr><td>ABQ</td><td>12</td><td>17</td><td>2220</td><td>B6</td><td>  65</td><td>136</td><td>4487</td><td>0.03030978</td></tr>\n",
       "\t<tr><td>ABQ</td><td> 7</td><td>10</td><td>2025</td><td>B6</td><td>1505</td><td>126</td><td>4487</td><td>0.02808112</td></tr>\n",
       "\t<tr><td>ABQ</td><td> 7</td><td>30</td><td>2212</td><td>B6</td><td>1505</td><td>118</td><td>4487</td><td>0.02629819</td></tr>\n",
       "\t<tr><td>ABQ</td><td> 7</td><td>28</td><td>2038</td><td>B6</td><td>1505</td><td>117</td><td>4487</td><td>0.02607533</td></tr>\n",
       "\t<tr><td>ABQ</td><td>12</td><td> 8</td><td>2049</td><td>B6</td><td>  65</td><td>114</td><td>4487</td><td>0.02540673</td></tr>\n",
       "\t<tr><td>ABQ</td><td> 9</td><td> 2</td><td>2212</td><td>B6</td><td>1505</td><td>109</td><td>4487</td><td>0.02429240</td></tr>\n",
       "\t<tr><td>ABQ</td><td>12</td><td>10</td><td>2044</td><td>B6</td><td>  65</td><td>108</td><td>4487</td><td>0.02406953</td></tr>\n",
       "\t<tr><td>ABQ</td><td> 5</td><td>10</td><td>2158</td><td>B6</td><td>1505</td><td>105</td><td>4487</td><td>0.02340094</td></tr>\n",
       "\t<tr><td>ABQ</td><td> 6</td><td>27</td><td>2007</td><td>B6</td><td>1505</td><td>103</td><td>4487</td><td>0.02295520</td></tr>\n",
       "\t<tr><td>ABQ</td><td> 8</td><td> 9</td><td>2159</td><td>B6</td><td>1505</td><td> 98</td><td>4487</td><td>0.02184087</td></tr>\n",
       "\t<tr><td>ABQ</td><td> 9</td><td>12</td><td>2147</td><td>B6</td><td>  65</td><td> 97</td><td>4487</td><td>0.02161801</td></tr>\n",
       "\t<tr><td>ABQ</td><td> 5</td><td> 8</td><td>2118</td><td>B6</td><td>1505</td><td> 94</td><td>4487</td><td>0.02094941</td></tr>\n",
       "\t<tr><td>ABQ</td><td> 7</td><td> 7</td><td>2040</td><td>B6</td><td>1505</td><td> 86</td><td>4487</td><td>0.01916648</td></tr>\n",
       "\t<tr><td>ABQ</td><td>12</td><td>15</td><td>2140</td><td>B6</td><td>  65</td><td> 80</td><td>4487</td><td>0.01782928</td></tr>\n",
       "\t<tr><td>ABQ</td><td> 8</td><td> 8</td><td>2055</td><td>B6</td><td>1505</td><td> 76</td><td>4487</td><td>0.01693782</td></tr>\n",
       "\t<tr><td>ABQ</td><td> 5</td><td>22</td><td>2001</td><td>B6</td><td>1505</td><td> 72</td><td>4487</td><td>0.01604636</td></tr>\n",
       "\t<tr><td>ABQ</td><td> 4</td><td>24</td><td>2037</td><td>B6</td><td>1505</td><td> 70</td><td>4487</td><td>0.01560062</td></tr>\n",
       "\t<tr><td>ABQ</td><td> 6</td><td>23</td><td>2007</td><td>B6</td><td>1505</td><td> 67</td><td>4487</td><td>0.01493203</td></tr>\n",
       "\t<tr><td>ABQ</td><td> 6</td><td>13</td><td>2104</td><td>B6</td><td>1505</td><td> 64</td><td>4487</td><td>0.01426343</td></tr>\n",
       "\t<tr><td>ABQ</td><td> 9</td><td>16</td><td>2134</td><td>B6</td><td>  65</td><td> 64</td><td>4487</td><td>0.01426343</td></tr>\n",
       "\t<tr><td>ABQ</td><td> 6</td><td> 8</td><td>2148</td><td>B6</td><td>1505</td><td> 61</td><td>4487</td><td>0.01359483</td></tr>\n",
       "\t<tr><td>ABQ</td><td> 9</td><td>13</td><td>2107</td><td>B6</td><td>  65</td><td> 59</td><td>4487</td><td>0.01314910</td></tr>\n",
       "\t<tr><td>ABQ</td><td>12</td><td> 9</td><td>2023</td><td>B6</td><td>  65</td><td> 57</td><td>4487</td><td>0.01270337</td></tr>\n",
       "\t<tr><td>ABQ</td><td>12</td><td>29</td><td>2022</td><td>B6</td><td>  65</td><td> 56</td><td>4487</td><td>0.01248050</td></tr>\n",
       "\t<tr><td>ABQ</td><td> 8</td><td> 4</td><td>2124</td><td>B6</td><td>1505</td><td> 55</td><td>4487</td><td>0.01225763</td></tr>\n",
       "\t<tr><td>ABQ</td><td>12</td><td>19</td><td>2102</td><td>B6</td><td>  65</td><td> 54</td><td>4487</td><td>0.01203477</td></tr>\n",
       "\t<tr><td>⋮</td><td>⋮</td><td>⋮</td><td>⋮</td><td>⋮</td><td>⋮</td><td>⋮</td><td>⋮</td><td>⋮</td></tr>\n",
       "\t<tr><td>XNA</td><td>10</td><td>24</td><td>1514</td><td>MQ</td><td>3532</td><td>3</td><td>15547</td><td>1.929633e-04</td></tr>\n",
       "\t<tr><td>XNA</td><td>11</td><td>13</td><td>1749</td><td>MQ</td><td>3713</td><td>3</td><td>15547</td><td>1.929633e-04</td></tr>\n",
       "\t<tr><td>XNA</td><td>12</td><td> 1</td><td>1517</td><td>MQ</td><td>3553</td><td>3</td><td>15547</td><td>1.929633e-04</td></tr>\n",
       "\t<tr><td>XNA</td><td> 2</td><td>25</td><td> 802</td><td>EV</td><td>4315</td><td>3</td><td>15547</td><td>1.929633e-04</td></tr>\n",
       "\t<tr><td>XNA</td><td> 2</td><td>25</td><td>1523</td><td>MQ</td><td>4525</td><td>3</td><td>15547</td><td>1.929633e-04</td></tr>\n",
       "\t<tr><td>XNA</td><td> 5</td><td> 7</td><td>1543</td><td>MQ</td><td>4525</td><td>3</td><td>15547</td><td>1.929633e-04</td></tr>\n",
       "\t<tr><td>XNA</td><td> 7</td><td>25</td><td> 659</td><td>MQ</td><td>3547</td><td>3</td><td>15547</td><td>1.929633e-04</td></tr>\n",
       "\t<tr><td>XNA</td><td> 8</td><td> 5</td><td> 837</td><td>EV</td><td>4419</td><td>3</td><td>15547</td><td>1.929633e-04</td></tr>\n",
       "\t<tr><td>XNA</td><td> 8</td><td>15</td><td>1753</td><td>MQ</td><td>3367</td><td>3</td><td>15547</td><td>1.929633e-04</td></tr>\n",
       "\t<tr><td>XNA</td><td> 1</td><td>21</td><td>1739</td><td>MQ</td><td>4413</td><td>2</td><td>15547</td><td>1.286422e-04</td></tr>\n",
       "\t<tr><td>XNA</td><td> 1</td><td>22</td><td>1521</td><td>MQ</td><td>4525</td><td>2</td><td>15547</td><td>1.286422e-04</td></tr>\n",
       "\t<tr><td>XNA</td><td>11</td><td> 5</td><td> 712</td><td>MQ</td><td>3547</td><td>2</td><td>15547</td><td>1.286422e-04</td></tr>\n",
       "\t<tr><td>XNA</td><td>11</td><td>18</td><td> 719</td><td>MQ</td><td>3547</td><td>2</td><td>15547</td><td>1.286422e-04</td></tr>\n",
       "\t<tr><td>XNA</td><td> 2</td><td> 5</td><td>1736</td><td>MQ</td><td>4413</td><td>2</td><td>15547</td><td>1.286422e-04</td></tr>\n",
       "\t<tr><td>XNA</td><td> 2</td><td>11</td><td>1522</td><td>MQ</td><td>4525</td><td>2</td><td>15547</td><td>1.286422e-04</td></tr>\n",
       "\t<tr><td>XNA</td><td> 4</td><td> 3</td><td> 717</td><td>EV</td><td>4150</td><td>2</td><td>15547</td><td>1.286422e-04</td></tr>\n",
       "\t<tr><td>XNA</td><td> 6</td><td>20</td><td>1522</td><td>MQ</td><td>3532</td><td>2</td><td>15547</td><td>1.286422e-04</td></tr>\n",
       "\t<tr><td>XNA</td><td> 7</td><td>31</td><td>1524</td><td>MQ</td><td>3532</td><td>2</td><td>15547</td><td>1.286422e-04</td></tr>\n",
       "\t<tr><td>XNA</td><td> 8</td><td> 4</td><td> 826</td><td>EV</td><td>6013</td><td>2</td><td>15547</td><td>1.286422e-04</td></tr>\n",
       "\t<tr><td>XNA</td><td> 8</td><td> 4</td><td>1746</td><td>MQ</td><td>3367</td><td>2</td><td>15547</td><td>1.286422e-04</td></tr>\n",
       "\t<tr><td>XNA</td><td> 8</td><td> 9</td><td> 820</td><td>EV</td><td>4419</td><td>2</td><td>15547</td><td>1.286422e-04</td></tr>\n",
       "\t<tr><td>XNA</td><td> 1</td><td>22</td><td>1737</td><td>MQ</td><td>4413</td><td>1</td><td>15547</td><td>6.432109e-05</td></tr>\n",
       "\t<tr><td>XNA</td><td> 1</td><td>29</td><td>1744</td><td>MQ</td><td>4413</td><td>1</td><td>15547</td><td>6.432109e-05</td></tr>\n",
       "\t<tr><td>XNA</td><td>11</td><td> 5</td><td>1748</td><td>MQ</td><td>3713</td><td>1</td><td>15547</td><td>6.432109e-05</td></tr>\n",
       "\t<tr><td>XNA</td><td>11</td><td>14</td><td>1521</td><td>MQ</td><td>3532</td><td>1</td><td>15547</td><td>6.432109e-05</td></tr>\n",
       "\t<tr><td>XNA</td><td> 2</td><td>12</td><td> 657</td><td>MQ</td><td>4534</td><td>1</td><td>15547</td><td>6.432109e-05</td></tr>\n",
       "\t<tr><td>XNA</td><td> 3</td><td>24</td><td> 837</td><td>EV</td><td>4691</td><td>1</td><td>15547</td><td>6.432109e-05</td></tr>\n",
       "\t<tr><td>XNA</td><td> 4</td><td> 3</td><td>1532</td><td>MQ</td><td>4525</td><td>1</td><td>15547</td><td>6.432109e-05</td></tr>\n",
       "\t<tr><td>XNA</td><td> 6</td><td>26</td><td> 805</td><td>EV</td><td>4419</td><td>1</td><td>15547</td><td>6.432109e-05</td></tr>\n",
       "\t<tr><td>XNA</td><td> 8</td><td>12</td><td>1748</td><td>MQ</td><td>3367</td><td>1</td><td>15547</td><td>6.432109e-05</td></tr>\n",
       "</tbody>\n",
       "</table>\n"
      ],
      "text/latex": [
       "A grouped\\_df: 133004 × 9\n",
       "\\begin{tabular}{lllllllll}\n",
       " dest & month & day & dep\\_time & carrier & flight & arr\\_delay & arr\\_delay\\_tot & arr\\_delay\\_prop\\\\\n",
       " <chr> & <int> & <int> & <int> & <chr> & <int> & <dbl> & <dbl> & <dbl>\\\\\n",
       "\\hline\n",
       "\t ABQ &  7 & 22 & 2145 & B6 & 1505 & 153 & 4487 & 0.03409851\\\\\n",
       "\t ABQ & 12 & 14 & 2223 & B6 &   65 & 149 & 4487 & 0.03320704\\\\\n",
       "\t ABQ & 10 & 15 & 2146 & B6 &   65 & 138 & 4487 & 0.03075552\\\\\n",
       "\t ABQ &  7 & 23 & 2206 & B6 & 1505 & 137 & 4487 & 0.03053265\\\\\n",
       "\t ABQ & 12 & 17 & 2220 & B6 &   65 & 136 & 4487 & 0.03030978\\\\\n",
       "\t ABQ &  7 & 10 & 2025 & B6 & 1505 & 126 & 4487 & 0.02808112\\\\\n",
       "\t ABQ &  7 & 30 & 2212 & B6 & 1505 & 118 & 4487 & 0.02629819\\\\\n",
       "\t ABQ &  7 & 28 & 2038 & B6 & 1505 & 117 & 4487 & 0.02607533\\\\\n",
       "\t ABQ & 12 &  8 & 2049 & B6 &   65 & 114 & 4487 & 0.02540673\\\\\n",
       "\t ABQ &  9 &  2 & 2212 & B6 & 1505 & 109 & 4487 & 0.02429240\\\\\n",
       "\t ABQ & 12 & 10 & 2044 & B6 &   65 & 108 & 4487 & 0.02406953\\\\\n",
       "\t ABQ &  5 & 10 & 2158 & B6 & 1505 & 105 & 4487 & 0.02340094\\\\\n",
       "\t ABQ &  6 & 27 & 2007 & B6 & 1505 & 103 & 4487 & 0.02295520\\\\\n",
       "\t ABQ &  8 &  9 & 2159 & B6 & 1505 &  98 & 4487 & 0.02184087\\\\\n",
       "\t ABQ &  9 & 12 & 2147 & B6 &   65 &  97 & 4487 & 0.02161801\\\\\n",
       "\t ABQ &  5 &  8 & 2118 & B6 & 1505 &  94 & 4487 & 0.02094941\\\\\n",
       "\t ABQ &  7 &  7 & 2040 & B6 & 1505 &  86 & 4487 & 0.01916648\\\\\n",
       "\t ABQ & 12 & 15 & 2140 & B6 &   65 &  80 & 4487 & 0.01782928\\\\\n",
       "\t ABQ &  8 &  8 & 2055 & B6 & 1505 &  76 & 4487 & 0.01693782\\\\\n",
       "\t ABQ &  5 & 22 & 2001 & B6 & 1505 &  72 & 4487 & 0.01604636\\\\\n",
       "\t ABQ &  4 & 24 & 2037 & B6 & 1505 &  70 & 4487 & 0.01560062\\\\\n",
       "\t ABQ &  6 & 23 & 2007 & B6 & 1505 &  67 & 4487 & 0.01493203\\\\\n",
       "\t ABQ &  6 & 13 & 2104 & B6 & 1505 &  64 & 4487 & 0.01426343\\\\\n",
       "\t ABQ &  9 & 16 & 2134 & B6 &   65 &  64 & 4487 & 0.01426343\\\\\n",
       "\t ABQ &  6 &  8 & 2148 & B6 & 1505 &  61 & 4487 & 0.01359483\\\\\n",
       "\t ABQ &  9 & 13 & 2107 & B6 &   65 &  59 & 4487 & 0.01314910\\\\\n",
       "\t ABQ & 12 &  9 & 2023 & B6 &   65 &  57 & 4487 & 0.01270337\\\\\n",
       "\t ABQ & 12 & 29 & 2022 & B6 &   65 &  56 & 4487 & 0.01248050\\\\\n",
       "\t ABQ &  8 &  4 & 2124 & B6 & 1505 &  55 & 4487 & 0.01225763\\\\\n",
       "\t ABQ & 12 & 19 & 2102 & B6 &   65 &  54 & 4487 & 0.01203477\\\\\n",
       "\t ⋮ & ⋮ & ⋮ & ⋮ & ⋮ & ⋮ & ⋮ & ⋮ & ⋮\\\\\n",
       "\t XNA & 10 & 24 & 1514 & MQ & 3532 & 3 & 15547 & 1.929633e-04\\\\\n",
       "\t XNA & 11 & 13 & 1749 & MQ & 3713 & 3 & 15547 & 1.929633e-04\\\\\n",
       "\t XNA & 12 &  1 & 1517 & MQ & 3553 & 3 & 15547 & 1.929633e-04\\\\\n",
       "\t XNA &  2 & 25 &  802 & EV & 4315 & 3 & 15547 & 1.929633e-04\\\\\n",
       "\t XNA &  2 & 25 & 1523 & MQ & 4525 & 3 & 15547 & 1.929633e-04\\\\\n",
       "\t XNA &  5 &  7 & 1543 & MQ & 4525 & 3 & 15547 & 1.929633e-04\\\\\n",
       "\t XNA &  7 & 25 &  659 & MQ & 3547 & 3 & 15547 & 1.929633e-04\\\\\n",
       "\t XNA &  8 &  5 &  837 & EV & 4419 & 3 & 15547 & 1.929633e-04\\\\\n",
       "\t XNA &  8 & 15 & 1753 & MQ & 3367 & 3 & 15547 & 1.929633e-04\\\\\n",
       "\t XNA &  1 & 21 & 1739 & MQ & 4413 & 2 & 15547 & 1.286422e-04\\\\\n",
       "\t XNA &  1 & 22 & 1521 & MQ & 4525 & 2 & 15547 & 1.286422e-04\\\\\n",
       "\t XNA & 11 &  5 &  712 & MQ & 3547 & 2 & 15547 & 1.286422e-04\\\\\n",
       "\t XNA & 11 & 18 &  719 & MQ & 3547 & 2 & 15547 & 1.286422e-04\\\\\n",
       "\t XNA &  2 &  5 & 1736 & MQ & 4413 & 2 & 15547 & 1.286422e-04\\\\\n",
       "\t XNA &  2 & 11 & 1522 & MQ & 4525 & 2 & 15547 & 1.286422e-04\\\\\n",
       "\t XNA &  4 &  3 &  717 & EV & 4150 & 2 & 15547 & 1.286422e-04\\\\\n",
       "\t XNA &  6 & 20 & 1522 & MQ & 3532 & 2 & 15547 & 1.286422e-04\\\\\n",
       "\t XNA &  7 & 31 & 1524 & MQ & 3532 & 2 & 15547 & 1.286422e-04\\\\\n",
       "\t XNA &  8 &  4 &  826 & EV & 6013 & 2 & 15547 & 1.286422e-04\\\\\n",
       "\t XNA &  8 &  4 & 1746 & MQ & 3367 & 2 & 15547 & 1.286422e-04\\\\\n",
       "\t XNA &  8 &  9 &  820 & EV & 4419 & 2 & 15547 & 1.286422e-04\\\\\n",
       "\t XNA &  1 & 22 & 1737 & MQ & 4413 & 1 & 15547 & 6.432109e-05\\\\\n",
       "\t XNA &  1 & 29 & 1744 & MQ & 4413 & 1 & 15547 & 6.432109e-05\\\\\n",
       "\t XNA & 11 &  5 & 1748 & MQ & 3713 & 1 & 15547 & 6.432109e-05\\\\\n",
       "\t XNA & 11 & 14 & 1521 & MQ & 3532 & 1 & 15547 & 6.432109e-05\\\\\n",
       "\t XNA &  2 & 12 &  657 & MQ & 4534 & 1 & 15547 & 6.432109e-05\\\\\n",
       "\t XNA &  3 & 24 &  837 & EV & 4691 & 1 & 15547 & 6.432109e-05\\\\\n",
       "\t XNA &  4 &  3 & 1532 & MQ & 4525 & 1 & 15547 & 6.432109e-05\\\\\n",
       "\t XNA &  6 & 26 &  805 & EV & 4419 & 1 & 15547 & 6.432109e-05\\\\\n",
       "\t XNA &  8 & 12 & 1748 & MQ & 3367 & 1 & 15547 & 6.432109e-05\\\\\n",
       "\\end{tabular}\n"
      ],
      "text/markdown": [
       "\n",
       "A grouped_df: 133004 × 9\n",
       "\n",
       "| dest &lt;chr&gt; | month &lt;int&gt; | day &lt;int&gt; | dep_time &lt;int&gt; | carrier &lt;chr&gt; | flight &lt;int&gt; | arr_delay &lt;dbl&gt; | arr_delay_tot &lt;dbl&gt; | arr_delay_prop &lt;dbl&gt; |\n",
       "|---|---|---|---|---|---|---|---|---|\n",
       "| ABQ |  7 | 22 | 2145 | B6 | 1505 | 153 | 4487 | 0.03409851 |\n",
       "| ABQ | 12 | 14 | 2223 | B6 |   65 | 149 | 4487 | 0.03320704 |\n",
       "| ABQ | 10 | 15 | 2146 | B6 |   65 | 138 | 4487 | 0.03075552 |\n",
       "| ABQ |  7 | 23 | 2206 | B6 | 1505 | 137 | 4487 | 0.03053265 |\n",
       "| ABQ | 12 | 17 | 2220 | B6 |   65 | 136 | 4487 | 0.03030978 |\n",
       "| ABQ |  7 | 10 | 2025 | B6 | 1505 | 126 | 4487 | 0.02808112 |\n",
       "| ABQ |  7 | 30 | 2212 | B6 | 1505 | 118 | 4487 | 0.02629819 |\n",
       "| ABQ |  7 | 28 | 2038 | B6 | 1505 | 117 | 4487 | 0.02607533 |\n",
       "| ABQ | 12 |  8 | 2049 | B6 |   65 | 114 | 4487 | 0.02540673 |\n",
       "| ABQ |  9 |  2 | 2212 | B6 | 1505 | 109 | 4487 | 0.02429240 |\n",
       "| ABQ | 12 | 10 | 2044 | B6 |   65 | 108 | 4487 | 0.02406953 |\n",
       "| ABQ |  5 | 10 | 2158 | B6 | 1505 | 105 | 4487 | 0.02340094 |\n",
       "| ABQ |  6 | 27 | 2007 | B6 | 1505 | 103 | 4487 | 0.02295520 |\n",
       "| ABQ |  8 |  9 | 2159 | B6 | 1505 |  98 | 4487 | 0.02184087 |\n",
       "| ABQ |  9 | 12 | 2147 | B6 |   65 |  97 | 4487 | 0.02161801 |\n",
       "| ABQ |  5 |  8 | 2118 | B6 | 1505 |  94 | 4487 | 0.02094941 |\n",
       "| ABQ |  7 |  7 | 2040 | B6 | 1505 |  86 | 4487 | 0.01916648 |\n",
       "| ABQ | 12 | 15 | 2140 | B6 |   65 |  80 | 4487 | 0.01782928 |\n",
       "| ABQ |  8 |  8 | 2055 | B6 | 1505 |  76 | 4487 | 0.01693782 |\n",
       "| ABQ |  5 | 22 | 2001 | B6 | 1505 |  72 | 4487 | 0.01604636 |\n",
       "| ABQ |  4 | 24 | 2037 | B6 | 1505 |  70 | 4487 | 0.01560062 |\n",
       "| ABQ |  6 | 23 | 2007 | B6 | 1505 |  67 | 4487 | 0.01493203 |\n",
       "| ABQ |  6 | 13 | 2104 | B6 | 1505 |  64 | 4487 | 0.01426343 |\n",
       "| ABQ |  9 | 16 | 2134 | B6 |   65 |  64 | 4487 | 0.01426343 |\n",
       "| ABQ |  6 |  8 | 2148 | B6 | 1505 |  61 | 4487 | 0.01359483 |\n",
       "| ABQ |  9 | 13 | 2107 | B6 |   65 |  59 | 4487 | 0.01314910 |\n",
       "| ABQ | 12 |  9 | 2023 | B6 |   65 |  57 | 4487 | 0.01270337 |\n",
       "| ABQ | 12 | 29 | 2022 | B6 |   65 |  56 | 4487 | 0.01248050 |\n",
       "| ABQ |  8 |  4 | 2124 | B6 | 1505 |  55 | 4487 | 0.01225763 |\n",
       "| ABQ | 12 | 19 | 2102 | B6 |   65 |  54 | 4487 | 0.01203477 |\n",
       "| ⋮ | ⋮ | ⋮ | ⋮ | ⋮ | ⋮ | ⋮ | ⋮ | ⋮ |\n",
       "| XNA | 10 | 24 | 1514 | MQ | 3532 | 3 | 15547 | 1.929633e-04 |\n",
       "| XNA | 11 | 13 | 1749 | MQ | 3713 | 3 | 15547 | 1.929633e-04 |\n",
       "| XNA | 12 |  1 | 1517 | MQ | 3553 | 3 | 15547 | 1.929633e-04 |\n",
       "| XNA |  2 | 25 |  802 | EV | 4315 | 3 | 15547 | 1.929633e-04 |\n",
       "| XNA |  2 | 25 | 1523 | MQ | 4525 | 3 | 15547 | 1.929633e-04 |\n",
       "| XNA |  5 |  7 | 1543 | MQ | 4525 | 3 | 15547 | 1.929633e-04 |\n",
       "| XNA |  7 | 25 |  659 | MQ | 3547 | 3 | 15547 | 1.929633e-04 |\n",
       "| XNA |  8 |  5 |  837 | EV | 4419 | 3 | 15547 | 1.929633e-04 |\n",
       "| XNA |  8 | 15 | 1753 | MQ | 3367 | 3 | 15547 | 1.929633e-04 |\n",
       "| XNA |  1 | 21 | 1739 | MQ | 4413 | 2 | 15547 | 1.286422e-04 |\n",
       "| XNA |  1 | 22 | 1521 | MQ | 4525 | 2 | 15547 | 1.286422e-04 |\n",
       "| XNA | 11 |  5 |  712 | MQ | 3547 | 2 | 15547 | 1.286422e-04 |\n",
       "| XNA | 11 | 18 |  719 | MQ | 3547 | 2 | 15547 | 1.286422e-04 |\n",
       "| XNA |  2 |  5 | 1736 | MQ | 4413 | 2 | 15547 | 1.286422e-04 |\n",
       "| XNA |  2 | 11 | 1522 | MQ | 4525 | 2 | 15547 | 1.286422e-04 |\n",
       "| XNA |  4 |  3 |  717 | EV | 4150 | 2 | 15547 | 1.286422e-04 |\n",
       "| XNA |  6 | 20 | 1522 | MQ | 3532 | 2 | 15547 | 1.286422e-04 |\n",
       "| XNA |  7 | 31 | 1524 | MQ | 3532 | 2 | 15547 | 1.286422e-04 |\n",
       "| XNA |  8 |  4 |  826 | EV | 6013 | 2 | 15547 | 1.286422e-04 |\n",
       "| XNA |  8 |  4 | 1746 | MQ | 3367 | 2 | 15547 | 1.286422e-04 |\n",
       "| XNA |  8 |  9 |  820 | EV | 4419 | 2 | 15547 | 1.286422e-04 |\n",
       "| XNA |  1 | 22 | 1737 | MQ | 4413 | 1 | 15547 | 6.432109e-05 |\n",
       "| XNA |  1 | 29 | 1744 | MQ | 4413 | 1 | 15547 | 6.432109e-05 |\n",
       "| XNA | 11 |  5 | 1748 | MQ | 3713 | 1 | 15547 | 6.432109e-05 |\n",
       "| XNA | 11 | 14 | 1521 | MQ | 3532 | 1 | 15547 | 6.432109e-05 |\n",
       "| XNA |  2 | 12 |  657 | MQ | 4534 | 1 | 15547 | 6.432109e-05 |\n",
       "| XNA |  3 | 24 |  837 | EV | 4691 | 1 | 15547 | 6.432109e-05 |\n",
       "| XNA |  4 |  3 | 1532 | MQ | 4525 | 1 | 15547 | 6.432109e-05 |\n",
       "| XNA |  6 | 26 |  805 | EV | 4419 | 1 | 15547 | 6.432109e-05 |\n",
       "| XNA |  8 | 12 | 1748 | MQ | 3367 | 1 | 15547 | 6.432109e-05 |\n",
       "\n"
      ],
      "text/plain": [
       "       dest month day dep_time carrier flight arr_delay arr_delay_tot\n",
       "1      ABQ   7    22  2145     B6      1505   153       4487         \n",
       "2      ABQ  12    14  2223     B6        65   149       4487         \n",
       "3      ABQ  10    15  2146     B6        65   138       4487         \n",
       "4      ABQ   7    23  2206     B6      1505   137       4487         \n",
       "5      ABQ  12    17  2220     B6        65   136       4487         \n",
       "6      ABQ   7    10  2025     B6      1505   126       4487         \n",
       "7      ABQ   7    30  2212     B6      1505   118       4487         \n",
       "8      ABQ   7    28  2038     B6      1505   117       4487         \n",
       "9      ABQ  12     8  2049     B6        65   114       4487         \n",
       "10     ABQ   9     2  2212     B6      1505   109       4487         \n",
       "11     ABQ  12    10  2044     B6        65   108       4487         \n",
       "12     ABQ   5    10  2158     B6      1505   105       4487         \n",
       "13     ABQ   6    27  2007     B6      1505   103       4487         \n",
       "14     ABQ   8     9  2159     B6      1505    98       4487         \n",
       "15     ABQ   9    12  2147     B6        65    97       4487         \n",
       "16     ABQ   5     8  2118     B6      1505    94       4487         \n",
       "17     ABQ   7     7  2040     B6      1505    86       4487         \n",
       "18     ABQ  12    15  2140     B6        65    80       4487         \n",
       "19     ABQ   8     8  2055     B6      1505    76       4487         \n",
       "20     ABQ   5    22  2001     B6      1505    72       4487         \n",
       "21     ABQ   4    24  2037     B6      1505    70       4487         \n",
       "22     ABQ   6    23  2007     B6      1505    67       4487         \n",
       "23     ABQ   6    13  2104     B6      1505    64       4487         \n",
       "24     ABQ   9    16  2134     B6        65    64       4487         \n",
       "25     ABQ   6     8  2148     B6      1505    61       4487         \n",
       "26     ABQ   9    13  2107     B6        65    59       4487         \n",
       "27     ABQ  12     9  2023     B6        65    57       4487         \n",
       "28     ABQ  12    29  2022     B6        65    56       4487         \n",
       "29     ABQ   8     4  2124     B6      1505    55       4487         \n",
       "30     ABQ  12    19  2102     B6        65    54       4487         \n",
       "⋮      ⋮    ⋮     ⋮   ⋮        ⋮       ⋮      ⋮         ⋮            \n",
       "132975 XNA  10    24  1514     MQ      3532   3         15547        \n",
       "132976 XNA  11    13  1749     MQ      3713   3         15547        \n",
       "132977 XNA  12     1  1517     MQ      3553   3         15547        \n",
       "132978 XNA   2    25   802     EV      4315   3         15547        \n",
       "132979 XNA   2    25  1523     MQ      4525   3         15547        \n",
       "132980 XNA   5     7  1543     MQ      4525   3         15547        \n",
       "132981 XNA   7    25   659     MQ      3547   3         15547        \n",
       "132982 XNA   8     5   837     EV      4419   3         15547        \n",
       "132983 XNA   8    15  1753     MQ      3367   3         15547        \n",
       "132984 XNA   1    21  1739     MQ      4413   2         15547        \n",
       "132985 XNA   1    22  1521     MQ      4525   2         15547        \n",
       "132986 XNA  11     5   712     MQ      3547   2         15547        \n",
       "132987 XNA  11    18   719     MQ      3547   2         15547        \n",
       "132988 XNA   2     5  1736     MQ      4413   2         15547        \n",
       "132989 XNA   2    11  1522     MQ      4525   2         15547        \n",
       "132990 XNA   4     3   717     EV      4150   2         15547        \n",
       "132991 XNA   6    20  1522     MQ      3532   2         15547        \n",
       "132992 XNA   7    31  1524     MQ      3532   2         15547        \n",
       "132993 XNA   8     4   826     EV      6013   2         15547        \n",
       "132994 XNA   8     4  1746     MQ      3367   2         15547        \n",
       "132995 XNA   8     9   820     EV      4419   2         15547        \n",
       "132996 XNA   1    22  1737     MQ      4413   1         15547        \n",
       "132997 XNA   1    29  1744     MQ      4413   1         15547        \n",
       "132998 XNA  11     5  1748     MQ      3713   1         15547        \n",
       "132999 XNA  11    14  1521     MQ      3532   1         15547        \n",
       "133000 XNA   2    12   657     MQ      4534   1         15547        \n",
       "133001 XNA   3    24   837     EV      4691   1         15547        \n",
       "133002 XNA   4     3  1532     MQ      4525   1         15547        \n",
       "133003 XNA   6    26   805     EV      4419   1         15547        \n",
       "133004 XNA   8    12  1748     MQ      3367   1         15547        \n",
       "       arr_delay_prop\n",
       "1      0.03409851    \n",
       "2      0.03320704    \n",
       "3      0.03075552    \n",
       "4      0.03053265    \n",
       "5      0.03030978    \n",
       "6      0.02808112    \n",
       "7      0.02629819    \n",
       "8      0.02607533    \n",
       "9      0.02540673    \n",
       "10     0.02429240    \n",
       "11     0.02406953    \n",
       "12     0.02340094    \n",
       "13     0.02295520    \n",
       "14     0.02184087    \n",
       "15     0.02161801    \n",
       "16     0.02094941    \n",
       "17     0.01916648    \n",
       "18     0.01782928    \n",
       "19     0.01693782    \n",
       "20     0.01604636    \n",
       "21     0.01560062    \n",
       "22     0.01493203    \n",
       "23     0.01426343    \n",
       "24     0.01426343    \n",
       "25     0.01359483    \n",
       "26     0.01314910    \n",
       "27     0.01270337    \n",
       "28     0.01248050    \n",
       "29     0.01225763    \n",
       "30     0.01203477    \n",
       "⋮      ⋮             \n",
       "132975 1.929633e-04  \n",
       "132976 1.929633e-04  \n",
       "132977 1.929633e-04  \n",
       "132978 1.929633e-04  \n",
       "132979 1.929633e-04  \n",
       "132980 1.929633e-04  \n",
       "132981 1.929633e-04  \n",
       "132982 1.929633e-04  \n",
       "132983 1.929633e-04  \n",
       "132984 1.286422e-04  \n",
       "132985 1.286422e-04  \n",
       "132986 1.286422e-04  \n",
       "132987 1.286422e-04  \n",
       "132988 1.286422e-04  \n",
       "132989 1.286422e-04  \n",
       "132990 1.286422e-04  \n",
       "132991 1.286422e-04  \n",
       "132992 1.286422e-04  \n",
       "132993 1.286422e-04  \n",
       "132994 1.286422e-04  \n",
       "132995 1.286422e-04  \n",
       "132996 6.432109e-05  \n",
       "132997 6.432109e-05  \n",
       "132998 6.432109e-05  \n",
       "132999 6.432109e-05  \n",
       "133000 6.432109e-05  \n",
       "133001 6.432109e-05  \n",
       "133002 6.432109e-05  \n",
       "133003 6.432109e-05  \n",
       "133004 6.432109e-05  "
      ]
     },
     "metadata": {},
     "output_type": "display_data"
    }
   ],
   "source": [
    "df %>% \n",
    "    filter(arr_delay >0) %>% #include only delayed flights\n",
    "    group_by(dest) %>% \n",
    "    mutate(arr_delay_tot = sum(arr_delay),\n",
    "      arr_delay_prop = arr_delay / arr_delay_tot) %>% \n",
    "    select(dest, month, day, dep_time, carrier, flight, #select only some variables for readability of resulting table\n",
    "       arr_delay, arr_delay_tot, arr_delay_prop) %>%\n",
    "    arrange(dest, desc(arr_delay_prop)) "
   ]
  }
 ],
 "metadata": {
  "celltoolbar": "Slideshow",
  "kernelspec": {
   "display_name": "R",
   "language": "R",
   "name": "ir"
  },
  "language_info": {
   "codemirror_mode": "r",
   "file_extension": ".r",
   "mimetype": "text/x-r-source",
   "name": "R",
   "pygments_lexer": "r",
   "version": "4.1.2"
  }
 },
 "nbformat": 4,
 "nbformat_minor": 2
}
